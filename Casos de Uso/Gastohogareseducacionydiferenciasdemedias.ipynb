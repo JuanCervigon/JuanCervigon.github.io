{
  "nbformat": 4,
  "nbformat_minor": 0,
  "metadata": {
    "colab": {
      "name": "gastohogareseducacionydiferenciasdemedias.ipynb",
      "provenance": [],
      "collapsed_sections": []
    },
    "kernelspec": {
      "name": "python3",
      "display_name": "Python 3"
    },
    "language_info": {
      "name": "python"
    }
  },
  "cells": [
    {
      "cell_type": "markdown",
      "metadata": {
        "id": "B1bv6aaBhynF"
      },
      "source": [
        "# **ANÁLISIS DESCRIPTIVO DEL GASTO DE LOS HOGARES EN EDUCACIÓN**"
      ]
    },
    {
      "cell_type": "markdown",
      "metadata": {
        "id": "81nKy0HADp-_"
      },
      "source": [
        "La **Encuesta de Gasto de los Hogares en Educación (EGHE)** es una investigación\n",
        "estadística de carácter plurianual realizada por el Instituto Nacional de Estadística (**INE**)\n",
        "que atiende la demanda estadística de información sobre el gasto de los hogares en\n",
        "educación.\n",
        "\n",
        "\n",
        "\n"
      ]
    },
    {
      "cell_type": "markdown",
      "metadata": {
        "id": "mmoUmTVn4Eqe"
      },
      "source": [
        "Se entiende por ***hogar***, la persona o conjunto de personas\n",
        "que residen habitualmente en una vivienda. Al tratarse de una encuesta de gasto, la principal unidad de medida es el importe monetario en ***euros***.\n",
        "\n",
        "Las **unidades básicas** de la encuesta son el hogar con estudiantes (persona o conjunto de personas que residen habitualmente en una vivienda y con al menos una de ellas realizando estudios) y el estudiante (persona que ha estado realizando estudios durante el período de referencia de la encuesta).\n",
        "\n",
        "\n",
        "\n"
      ]
    },
    {
      "cell_type": "markdown",
      "metadata": {
        "id": "4O3JAVkr3XvG"
      },
      "source": [
        "# Objetivo\n",
        "\n",
        "\n",
        "Hacer un análisis descriptivo y proporcionar información sobre el gasto total y gasto medio por hogar y por estudiante según nivel de enseñanza, tipo de enseñanza y  servicio educativo. \n",
        "\n",
        "\n"
      ]
    },
    {
      "cell_type": "markdown",
      "metadata": {
        "id": "f4gvBYap489n"
      },
      "source": [
        "Analizar el gasto en educación en función de determinadas características cualitativas\n",
        "de los hogares y de los estudiantes (tipo de hogar, tamaño del municipio...)."
      ]
    },
    {
      "cell_type": "markdown",
      "metadata": {
        "id": "mTygXE7338a0"
      },
      "source": [
        "La **población objeto** **de estudio**  es el conjunto de los hogares existentes en España en\n",
        "los que alguno de sus miembros está estudiando."
      ]
    },
    {
      "cell_type": "markdown",
      "metadata": {
        "id": "stfjgDn3D1GF"
      },
      "source": [
        "# Librerías"
      ]
    },
    {
      "cell_type": "markdown",
      "metadata": {
        "id": "xlr6qJzgm-cv"
      },
      "source": [
        "Cargamos las librerías que vamos a utilizar."
      ]
    },
    {
      "cell_type": "code",
      "metadata": {
        "id": "ZbqgpoDjhyG3"
      },
      "source": [
        "import numpy as np\n",
        "import pandas as pd\n",
        "import matplotlib.pyplot as plt\n",
        "import seaborn as sns"
      ],
      "execution_count": null,
      "outputs": []
    },
    {
      "cell_type": "markdown",
      "metadata": {
        "id": "BZI-zy5eD4aH"
      },
      "source": [
        "\n",
        "\n",
        "# Gastos totales y medios\n",
        "\n"
      ]
    },
    {
      "cell_type": "markdown",
      "metadata": {
        "id": "2ASYu8JHnHuc"
      },
      "source": [
        "Cargamos el dataset, visualizamos el archivo y describimos los materiales."
      ]
    },
    {
      "cell_type": "code",
      "metadata": {
        "colab": {
          "resources": {
            "http://localhost:8080/nbextensions/google.colab/files.js": {
              "data": "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",
              "ok": true,
              "headers": [
                [
                  "content-type",
                  "application/javascript"
                ]
              ],
              "status": 200,
              "status_text": ""
            }
          },
          "base_uri": "https://localhost:8080/",
          "height": 157
        },
        "id": "n5lAK5lO9cx_",
        "outputId": "200cfe3b-2f85-4543-e14d-5c8c17a3e227"
      },
      "source": [
        "#Cargamos el dataset \n",
        "from google.colab import files\n",
        "uploaded = files.upload() #subimos archivo gmed a Colab\n",
        "datos1 = pd.read_excel('gmedios.xlsx')\n",
        "datos.head() #Visualizamos el archivo cargado"
      ],
      "execution_count": null,
      "outputs": [
        {
          "output_type": "display_data",
          "data": {
            "text/html": [
              "\n",
              "     <input type=\"file\" id=\"files-aeb4dbd9-b0af-47f2-b157-7a13acc59c5c\" name=\"files[]\" multiple disabled\n",
              "        style=\"border:none\" />\n",
              "     <output id=\"result-aeb4dbd9-b0af-47f2-b157-7a13acc59c5c\">\n",
              "      Upload widget is only available when the cell has been executed in the\n",
              "      current browser session. Please rerun this cell to enable.\n",
              "      </output>\n",
              "      <script src=\"/nbextensions/google.colab/files.js\"></script> "
            ],
            "text/plain": [
              "<IPython.core.display.HTML object>"
            ]
          },
          "metadata": {}
        },
        {
          "output_type": "stream",
          "name": "stdout",
          "text": [
            "Saving gmedios.xlsx to gmedios (3).xlsx\n"
          ]
        },
        {
          "output_type": "execute_result",
          "data": {
            "text/html": [
              "<div>\n",
              "<style scoped>\n",
              "    .dataframe tbody tr th:only-of-type {\n",
              "        vertical-align: middle;\n",
              "    }\n",
              "\n",
              "    .dataframe tbody tr th {\n",
              "        vertical-align: top;\n",
              "    }\n",
              "\n",
              "    .dataframe thead th {\n",
              "        text-align: right;\n",
              "    }\n",
              "</style>\n",
              "<table border=\"1\" class=\"dataframe\">\n",
              "  <thead>\n",
              "    <tr style=\"text-align: right;\">\n",
              "      <th></th>\n",
              "      <th>total</th>\n",
              "      <th>gtotal</th>\n",
              "      <th>gm</th>\n",
              "      <th>gm_esp</th>\n",
              "      <th>gm_ext</th>\n",
              "      <th>gm_dob</th>\n",
              "      <th>gm_pri</th>\n",
              "      <th>gm_eso</th>\n",
              "      <th>gm_bach</th>\n",
              "      <th>gm_fp</th>\n",
              "      <th>gm_fpsup</th>\n",
              "      <th>gm_uni</th>\n",
              "      <th>gm_diezk</th>\n",
              "      <th>gm_cinqk</th>\n",
              "      <th>gm_cienk</th>\n",
              "      <th>gm_quink</th>\n",
              "      <th>gm_mquink</th>\n",
              "      <th>gm_una</th>\n",
              "      <th>gm_dos</th>\n",
              "      <th>gm_tres</th>\n",
              "      <th>gm_cuatro</th>\n",
              "      <th>gm_cinco</th>\n",
              "    </tr>\n",
              "  </thead>\n",
              "  <tbody>\n",
              "    <tr>\n",
              "      <th>0</th>\n",
              "      <td>12017442</td>\n",
              "      <td>19811335</td>\n",
              "      <td>1649</td>\n",
              "      <td>1697</td>\n",
              "      <td>1034</td>\n",
              "      <td>1566</td>\n",
              "      <td>1288</td>\n",
              "      <td>1371</td>\n",
              "      <td>1942</td>\n",
              "      <td>963</td>\n",
              "      <td>1662</td>\n",
              "      <td>3080</td>\n",
              "      <td>924</td>\n",
              "      <td>975</td>\n",
              "      <td>1017</td>\n",
              "      <td>1158</td>\n",
              "      <td>1981</td>\n",
              "      <td>1932</td>\n",
              "      <td>2248</td>\n",
              "      <td>2183</td>\n",
              "      <td>3295</td>\n",
              "      <td>3828</td>\n",
              "    </tr>\n",
              "  </tbody>\n",
              "</table>\n",
              "</div>"
            ],
            "text/plain": [
              "      total    gtotal    gm  gm_esp  ...  gm_dos  gm_tres  gm_cuatro  gm_cinco\n",
              "0  12017442  19811335  1649    1697  ...    2248     2183       3295      3828\n",
              "\n",
              "[1 rows x 22 columns]"
            ]
          },
          "metadata": {},
          "execution_count": 100
        }
      ]
    },
    {
      "cell_type": "markdown",
      "source": [
        "\n",
        "\n",
        "*   **total**= Total de personas que realizaron estudios en el curso 2019/2020.\n",
        "*   **gtotal**= Gasto total de los hogares en educación.\n",
        "*   **gm**= Gasto medio por estudiante.\n",
        "*   **gm_esp**= Gasto medio por hogar por estudiante con nacionalidad española.\n",
        "*   **gm_ext**= Gasto medio por hogar por estudiante con nacionalidad extranjera.\n",
        "*   **gm_doble**= Gasto medio por hogar por estudiante con doble nacionalidad.\n",
        "*   **gm_pri**= Gasto medio por hogar por estudiante de primaria \n",
        "*   **gm_eso**= Gasto medio por hogar por estudiante de ESO \n",
        "*   **gm_bach**= Gasto medio por hogar por estudiante de bachillerato \n",
        "*   **gm_fp**= Gasto medio por hogar por estudiante de fp medio \n",
        "*   **gm_fpsup**= Gasto medio por hogar por estudiante de fp superior \n",
        "*   **gm_uni**= Gasto medio por hogar por estudiante de universidad\n",
        "*   **gm_diezk**= Gasto medio por hogar por estudiante segun tamaño de municipio menor a diez mil personas.\n",
        "*   **gm_cinqk**= Gasto medio por hogar por estudiante segun tamaño de municipio de diez mil a cinquenta mil personas.\n",
        "*   **gm_cienk**= Gasto medio por hogar por estudiante segun tamaño de municipio de ciquenta mil a cien mil personas.\n",
        "*   **gm_quink**= Gasto medio por hogar por estudiante segun tamaño de municipio de cien mil a quinientos mil personas.\n",
        "*   **gm_mquink**= Gasto medio por hogar por estudiante segun tamaño de municipio mayor de quinientas mil personas.\n",
        "*   **gm_una**= Gasto medio por hogar si hay un estudiante en el hogar\n",
        "*   **gm_dos**= Gasto medio por hogar si hay dos estudiantes en el hogar\n",
        "*   **gm_tres**= Gasto medio por hogar si hay tres estudiantes en el hogar\n",
        "*   **gm_cuatro**= Gasto medio por hogar si hay cuatro estudiantes en el hogar\n",
        "*   **gm_cinco**= Gasto medio por hogar si hay cinco o más estudiantes en el hogar\n",
        "\n",
        "\n",
        "\n",
        "\n",
        "\n",
        "\n",
        "\n",
        "\n",
        "\n",
        "\n",
        "\n",
        "\n",
        "\n",
        "\n"
      ],
      "metadata": {
        "id": "_NvjYOu2JDj5"
      }
    },
    {
      "cell_type": "markdown",
      "metadata": {
        "id": "9G7bU3teoc6X"
      },
      "source": [
        "El número de total de personas que realizaron estudios (reglados o no reglados) en el curso\n",
        "2019/2020 fue de 12.017.442. Por sexo, el 48,3% fueron hombres y el 51,7% mujeres."
      ]
    },
    {
      "cell_type": "markdown",
      "metadata": {
        "id": "bY0D_7YInqVS"
      },
      "source": [
        "El gasto total de los hogares en educación fue de 19.811 millones de euros. La mayor\n",
        "parte de los hogares, un 22,8%, gastaron cada uno entre 1.000 y 2.000 euros."
      ]
    },
    {
      "cell_type": "markdown",
      "metadata": {
        "id": "sBTiccaXnmfs"
      },
      "source": [
        "Cada estudiante gastó, en media, 1.649 euros. De ellos, 1.313 euros en servicios\n",
        "educativos (matrícula y clases lectivas, comedor, actividades extraescolares…) y 335\n",
        "euros en bienes con fines educativos (libros de texto, uniformes, papelería…)."
      ]
    },
    {
      "cell_type": "markdown",
      "metadata": {
        "id": "Gk1irRnaV3O_"
      },
      "source": [
        "# Gráfico"
      ]
    },
    {
      "cell_type": "markdown",
      "metadata": {
        "id": "Rnp583Algrqp"
      },
      "source": [
        "Vamos a representar gráficamente el gasto medio por persona que tienen los hogares españoles según:\n",
        "\n",
        "\n",
        "> \n",
        "\n",
        "\n",
        "\n",
        "1.   Nacionalidad\n",
        "2.   Etapa educativa\n",
        "3.   Número de habitantes del lugar de residencia\n",
        "4.   Número de estudiantes en el hogar\n",
        "\n",
        "\n",
        "\n",
        "\n",
        "\n",
        "\n"
      ]
    },
    {
      "cell_type": "code",
      "metadata": {
        "colab": {
          "base_uri": "https://localhost:8080/",
          "height": 417
        },
        "id": "a_GGUR1ZgnTD",
        "outputId": "5e50284e-faf6-4060-e0cc-de7e9bede8d9"
      },
      "source": [
        "values = [1697,1034,1566]\n",
        "names = ['gm_esp','gm_ext','gm_dob']\n",
        "\n",
        "plt.figure(figsize=(10, 6))\n",
        "\n",
        "\n",
        "plt.bar(names, values)\n",
        "\n",
        "plt.suptitle('Gasto medio según nacionalidad')\n",
        "plt.show()\n",
        "\n"
      ],
      "execution_count": null,
      "outputs": [
        {
          "output_type": "display_data",
          "data": {
            "image/png": "[encoded data removed]",
            "text/plain": [
              "<Figure size 720x432 with 1 Axes>"
            ]
          },
          "metadata": {
            "needs_background": "light"
          }
        }
      ]
    },
    {
      "cell_type": "markdown",
      "metadata": {
        "id": "HEY-oqlPoX9H"
      },
      "source": [
        "Podemos ver en el gráfico que, los que tienen nacionalidad española, hacen un gasto medio mucho mayor que los que tienen nacionalidad extranjera.\\\n",
        "Por nacionalidad, el 89.8% de los estudiantes eran españoles, el 6,6% eran extranjeros y el\n",
        "3,6% tenían la doble nacionalidad."
      ]
    },
    {
      "cell_type": "code",
      "metadata": {
        "colab": {
          "base_uri": "https://localhost:8080/",
          "height": 294
        },
        "id": "wKQISCSWhlZ4",
        "outputId": "ecc0d4e9-de03-485b-bc93-7693aaa34e1b"
      },
      "source": [
        "values2 = [1288,1371,1942,963,1662,3080]\n",
        "names2 = ['gm_pri','gm_eso','gm_bach','gm_fp','gm_fpsup','gm_uni']\n",
        "\n",
        "plt.figure(figsize=(10, 4))\n",
        "\n",
        "\n",
        "plt.bar(names2, values2)\n",
        "\n",
        "plt.suptitle('Gasto medio según etapa educativa')\n",
        "plt.show()"
      ],
      "execution_count": null,
      "outputs": [
        {
          "output_type": "display_data",
          "data": {
            "image/png": "[encoded data removed]",
            "text/plain": [
              "<Figure size 720x288 with 1 Axes>"
            ]
          },
          "metadata": {
            "needs_background": "light"
          }
        }
      ]
    },
    {
      "cell_type": "markdown",
      "metadata": {
        "id": "R7e0FTg4pYlj"
      },
      "source": [
        "Por nivel de estudios realizados, el mayor porcentaje de gasto correspondió a los Estudios\n",
        "universitarios, con el 43,4% del total, seguido del gasto medio en bachillerato. La Educación Primaria supuso un 17,2% y la Educación\n",
        "Secundaria Obligatoria un 11,0%."
      ]
    },
    {
      "cell_type": "code",
      "metadata": {
        "colab": {
          "base_uri": "https://localhost:8080/",
          "height": 294
        },
        "id": "O7BdD27zhqeM",
        "outputId": "a063c9d8-e90d-42f4-f2a5-fadc3d954e1d"
      },
      "source": [
        "values3 = [924,975,1017,1158,1981]\n",
        "names3 = ['gm_diezk','gm_cinqk','gm_cienk','gm_quink','gm_mquink']\n",
        "\n",
        "plt.figure(figsize=(10, 4))\n",
        "\n",
        "\n",
        "plt.bar(names3, values3)\n",
        "\n",
        "plt.suptitle('Gasto medio según población')\n",
        "plt.show()\n"
      ],
      "execution_count": null,
      "outputs": [
        {
          "output_type": "display_data",
          "data": {
            "image/png": "[encoded data removed]",
            "text/plain": [
              "<Figure size 720x288 with 1 Axes>"
            ]
          },
          "metadata": {
            "needs_background": "light"
          }
        }
      ]
    },
    {
      "cell_type": "markdown",
      "source": [
        "El gasto medio en poblaciones de más de quinientos mil habitantes es mucho mayor que las poblaciones con menos habitantes. El gráfico sigue una escala ascendente, a más población más gasto tienen que destinar los hogares españoles en educación."
      ],
      "metadata": {
        "id": "w1YRaD0sQ4fg"
      }
    },
    {
      "cell_type": "code",
      "metadata": {
        "colab": {
          "base_uri": "https://localhost:8080/",
          "height": 294
        },
        "id": "wudyo5jXQ40b",
        "outputId": "8e1a5061-82a6-43d7-9c28-680263309653"
      },
      "source": [
        "values4 = [1932,2248,2183,3295,3828,]\n",
        "names4 = ['gm_uno','gm_dos','gm_tres','gm_cuatro','gm_cinco']\n",
        "\n",
        "plt.figure(figsize=(10, 4))\n",
        "\n",
        "\n",
        "plt.bar(names4, values4)\n",
        "\n",
        "plt.suptitle('Gasto medio del hogar según número de estudiantes')\n",
        "plt.show()"
      ],
      "execution_count": null,
      "outputs": [
        {
          "output_type": "display_data",
          "data": {
            "image/png": "[encoded data removed]",
            "text/plain": [
              "<Figure size 720x288 with 1 Axes>"
            ]
          },
          "metadata": {
            "needs_background": "light"
          }
        }
      ]
    },
    {
      "cell_type": "markdown",
      "source": [
        "Según el número de estudiantes tenga el hogar, el que más gasto medio en estudios son las familias con hasta cuatro o cinco estudiantes, con 3295 euros y 3828 euros de media respectivamente. "
      ],
      "metadata": {
        "id": "pf2CIRj5RRqe"
      }
    },
    {
      "cell_type": "markdown",
      "metadata": {
        "id": "Oa0LS2t-XLEc"
      },
      "source": [
        "# *DATOS POR TRAMOS DE EDAD Y SEGÚN GÉNERO*"
      ]
    },
    {
      "cell_type": "markdown",
      "source": [
        "Desde otro punto de vista, podemos ver el gasto medio según tramos de edad y género. Lo primero que haremos es cargar el dataset."
      ],
      "metadata": {
        "id": "pEe6tj7URz5Y"
      }
    },
    {
      "cell_type": "code",
      "metadata": {
        "colab": {
          "resources": {
            "http://localhost:8080/nbextensions/google.colab/files.js": {
              "data": "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",
              "ok": true,
              "headers": [
                [
                  "content-type",
                  "application/javascript"
                ]
              ],
              "status": 200,
              "status_text": ""
            }
          },
          "base_uri": "https://localhost:8080/",
          "height": 263
        },
        "id": "x4OsPI46F_xN",
        "outputId": "0ad55b40-ed3b-4272-b7db-50958995df40"
      },
      "source": [
        "#Cargamos el dataset \n",
        "from google.colab import files\n",
        "uploaded = files.upload() #subimos archivo Gmedio a Colab\n",
        "datos = pd.read_excel('Gmedio.xlsx')\n",
        "datos.head() #Visualizamos el archivo cargado"
      ],
      "execution_count": null,
      "outputs": [
        {
          "output_type": "display_data",
          "data": {
            "text/html": [
              "\n",
              "     <input type=\"file\" id=\"files-00c18238-9bf1-4374-ac19-3ccb15950aaa\" name=\"files[]\" multiple disabled\n",
              "        style=\"border:none\" />\n",
              "     <output id=\"result-00c18238-9bf1-4374-ac19-3ccb15950aaa\">\n",
              "      Upload widget is only available when the cell has been executed in the\n",
              "      current browser session. Please rerun this cell to enable.\n",
              "      </output>\n",
              "      <script src=\"/nbextensions/google.colab/files.js\"></script> "
            ],
            "text/plain": [
              "<IPython.core.display.HTML object>"
            ]
          },
          "metadata": {}
        },
        {
          "output_type": "stream",
          "name": "stdout",
          "text": [
            "Saving Gmedio.xlsx to Gmedio.xlsx\n"
          ]
        },
        {
          "output_type": "execute_result",
          "data": {
            "text/html": [
              "<div>\n",
              "<style scoped>\n",
              "    .dataframe tbody tr th:only-of-type {\n",
              "        vertical-align: middle;\n",
              "    }\n",
              "\n",
              "    .dataframe tbody tr th {\n",
              "        vertical-align: top;\n",
              "    }\n",
              "\n",
              "    .dataframe thead th {\n",
              "        text-align: right;\n",
              "    }\n",
              "</style>\n",
              "<table border=\"1\" class=\"dataframe\">\n",
              "  <thead>\n",
              "    <tr style=\"text-align: right;\">\n",
              "      <th></th>\n",
              "      <th>tramosedad</th>\n",
              "      <th>gm_h</th>\n",
              "      <th>gm_m</th>\n",
              "      <th>gm_erh</th>\n",
              "      <th>gm_erm</th>\n",
              "      <th>gm_enrh</th>\n",
              "      <th>gm_enrm</th>\n",
              "      <th>error_h</th>\n",
              "      <th>error_m</th>\n",
              "      <th>rentamed</th>\n",
              "    </tr>\n",
              "  </thead>\n",
              "  <tbody>\n",
              "    <tr>\n",
              "      <th>0</th>\n",
              "      <td>Menor de 5</td>\n",
              "      <td>1142</td>\n",
              "      <td>1270</td>\n",
              "      <td>985</td>\n",
              "      <td>1080</td>\n",
              "      <td>416</td>\n",
              "      <td>440</td>\n",
              "      <td>8.56</td>\n",
              "      <td>8.87</td>\n",
              "      <td>18409</td>\n",
              "    </tr>\n",
              "    <tr>\n",
              "      <th>1</th>\n",
              "      <td>De 5 a 9</td>\n",
              "      <td>1214</td>\n",
              "      <td>1292</td>\n",
              "      <td>833</td>\n",
              "      <td>804</td>\n",
              "      <td>416</td>\n",
              "      <td>440</td>\n",
              "      <td>6.88</td>\n",
              "      <td>6.57</td>\n",
              "      <td>18409</td>\n",
              "    </tr>\n",
              "    <tr>\n",
              "      <th>2</th>\n",
              "      <td>De 10 a 14</td>\n",
              "      <td>1361</td>\n",
              "      <td>1309</td>\n",
              "      <td>794</td>\n",
              "      <td>668</td>\n",
              "      <td>416</td>\n",
              "      <td>440</td>\n",
              "      <td>6.13</td>\n",
              "      <td>6.74</td>\n",
              "      <td>18409</td>\n",
              "    </tr>\n",
              "    <tr>\n",
              "      <th>3</th>\n",
              "      <td>De 15 a 19</td>\n",
              "      <td>1683</td>\n",
              "      <td>2202</td>\n",
              "      <td>1085</td>\n",
              "      <td>1383</td>\n",
              "      <td>827</td>\n",
              "      <td>973</td>\n",
              "      <td>7.91</td>\n",
              "      <td>8.42</td>\n",
              "      <td>19090</td>\n",
              "    </tr>\n",
              "    <tr>\n",
              "      <th>4</th>\n",
              "      <td>De 20 a 24</td>\n",
              "      <td>2800</td>\n",
              "      <td>2506</td>\n",
              "      <td>2331</td>\n",
              "      <td>1975</td>\n",
              "      <td>827</td>\n",
              "      <td>973</td>\n",
              "      <td>9.13</td>\n",
              "      <td>9.68</td>\n",
              "      <td>19090</td>\n",
              "    </tr>\n",
              "  </tbody>\n",
              "</table>\n",
              "</div>"
            ],
            "text/plain": [
              "    tramosedad  gm_h  gm_m  gm_erh  ...  gm_enrm  error_h  error_m  rentamed\n",
              "0  Menor de 5   1142  1270     985  ...      440     8.56     8.87     18409\n",
              "1    De 5 a 9   1214  1292     833  ...      440     6.88     6.57     18409\n",
              "2  De 10 a 14   1361  1309     794  ...      440     6.13     6.74     18409\n",
              "3  De 15 a 19   1683  2202    1085  ...      973     7.91     8.42     19090\n",
              "4  De 20 a 24   2800  2506    2331  ...      973     9.13     9.68     19090\n",
              "\n",
              "[5 rows x 10 columns]"
            ]
          },
          "metadata": {},
          "execution_count": 136
        }
      ]
    },
    {
      "cell_type": "markdown",
      "source": [
        "\n",
        "\n",
        "*   **gm_h**=  Gasto medio por hogar por estudiante que sea hombre\n",
        "*   **gm_m**= Gasto medio por hogar por estudiante que sea mujer\n",
        "*   **gm_erh**=Gasto medio por hogar por estudiante hombre en estudios reglados\n",
        "*   **gm_erm**=Gasto medio por hogar por estudiante mujer en estudios reglados\n",
        "*   **gm_enrh**=Gasto medio por hogar por estudiante hombre en estudios no reglados\n",
        "*   **gm_enrm**=Gasto medio por hogar por estudiante mujer en estudios no reglados\n",
        "*   **rentamed**= Renta media de los hogares con estudiantes según tramos de edad\n",
        "\n",
        "\n",
        "\n",
        "\n"
      ],
      "metadata": {
        "id": "Ok9KU4r5VYgt"
      }
    },
    {
      "cell_type": "markdown",
      "metadata": {
        "id": "n8Ft73lRox3m"
      },
      "source": [
        "El gasto de los hogares en **servicios educativos reglados** fue de 11.972 millones de euros. El\n",
        "mayor desembolso correspondió a Matrícula y clases lectivas (65% del total).\n",
        "Por su parte, el Servicio de comedor supuso un 10,4% del gasto total y las Actividades\n",
        "extraescolares y complementarias un 7,9%."
      ]
    },
    {
      "cell_type": "markdown",
      "metadata": {
        "id": "bN0vK5_vpk4B"
      },
      "source": [
        "El gasto total de los hogares en **servicios educativos de estudios no reglados** fue de 3.812\n",
        "millones de euros. El 44,1% correspondió a estudios de idiomas no oficiales, el 11,1% a\n",
        "enseñanzas artísticas, el 18,9% a la preparación de pruebas de acceso y oposiciones y el\n",
        "25,9% a otro tipo de estudios no reglados. "
      ]
    },
    {
      "cell_type": "markdown",
      "metadata": {
        "id": "9pMcLJekmdg8"
      },
      "source": [
        "# *Gráfico*"
      ]
    },
    {
      "cell_type": "code",
      "metadata": {
        "colab": {
          "base_uri": "https://localhost:8080/",
          "height": 265
        },
        "id": "M8_rcYKjVttl",
        "outputId": "ca0564e1-45e2-4673-f39a-678379fc6d65"
      },
      "source": [
        "variables = [\"gm_h\", \"gm_m\",\"gm_erh\",\"gm_erm\",\"gm_enrh\",\"gm_enrm\"]\n",
        "resultado = datos[variables]\n",
        "edad = datos[\"tramosedad\"]\n",
        "fig, ax = plt.subplots(figsize=(12, 4))\n",
        "plt.plot(edad, resultado)\n",
        "\n",
        "\n",
        "plt.show()"
      ],
      "execution_count": null,
      "outputs": [
        {
          "output_type": "display_data",
          "data": {
            "image/png": "[encoded data removed]",
            "text/plain": [
              "<Figure size 864x288 with 1 Axes>"
            ]
          },
          "metadata": {
            "needs_background": "light"
          }
        }
      ]
    },
    {
      "cell_type": "markdown",
      "metadata": {
        "id": "bkc1RPwTn7e-"
      },
      "source": [
        "Por edad, el mayor número de estudiantes correspondió al intervalo de 15 a 19 años (19,7%\n",
        "del total), seguido del grupo de 10 a 14 años (17,8%) y del de cinco a nueve años (17,0%). A\n",
        "partir de los 25 años de edad se observa un incremento significativo en el porcentaje que\n",
        "representaron las mujeres sobre el total de personas que realizaron estudios.\n",
        "Por su parte, las personas de 45 y más años supusieron el 7,3% del total de personas que\n",
        "realizaron algún tipo de estudios. De ellas, el 57,7% eran mujeres\n"
      ]
    },
    {
      "cell_type": "markdown",
      "metadata": {
        "id": "-_LDD7DGlI0u"
      },
      "source": [
        "#Diferencias de medias (t-test)"
      ]
    },
    {
      "cell_type": "markdown",
      "source": [
        "Para nuestro ejemplo, sería interesante realizar una diferencia de medias a los distintos tipos de gastos medios para ver si se rechaza o no la hipótesis nula. Para ello, utilizaríamos la prueba t de Student, conocida también como t-test, la cual sirve para saber si hay una diferencia significativa entre las medias de dos poblaciones.\\\n",
        "En el contraste de hipótesis se parte de un supuesto de igualdad de los dos parámetros que queremos comparar, supuesto al que denominamos hipótesis nula(**$H_0$**). Una vez obtenidos los parámetros, calcularemos la probabilidad de que, bajo el supuesto de la hipótesis nula, la diferencia que observemos entre ellos sea debida a un error aleatorio o de muestreo. Si esta probabilidad es inferior a un determinado valor que, suele situarse en 0,05 (pvalor), asumiremos que la probabilidad de que la diferencia es lo suficientemente baja como para rechazar la hipótesis nula y considerar como cierta la hipótesis alternativa (**$H_1$**) de desigualdad de uno de los parámetros.\n",
        "\n",
        "> **$H_0$**: no hay diferencia entre las medias poblacionales\n",
        "\n",
        "\n",
        "> **$H_1$**: si hay diferencia entre las medias poblacionales\n",
        "\n",
        "Podemos diferenciar varias adaptaciones del t-test dependiendo si los datos son independientes (las observaciones se han obtenido de forma aleatoria y no guardan relación unas con otras) o dependientes (nuestro caso).\n"
      ],
      "metadata": {
        "id": "Ubzf0YBAzzGA"
      }
    },
    {
      "cell_type": "markdown",
      "source": [
        "## t-test para muestras independientes\n",
        "\n",
        "Como hemos especificado anteriormente, dos muestras se consideran independientes si las observaciones se han obtenido aleatoriamente y no guardan ninguna relación ninguna observación con otras.\n",
        "\n",
        "\n",
        "Las hipótesis contrastadas por el t-test de muestras independientes son:\n",
        "\n",
        "\n",
        "\n",
        "> $H_0$ : no hay diferencias entre las medias:  $μ_x$=$μ_y$ \\\n",
        "\n",
        "\n",
        "\n",
        "\n",
        "> $H_1$ : hay diferencias entre las medias:  $μ_x$≠$μ_y$\n",
        "\n",
        "\n",
        "El estadístico utilizado por el t-test de muestras independientes se calcula de la siguiente forma:\n",
        "\n",
        "\n",
        "\n",
        "> $t = \\frac{\\overline{x} - \\overline{y}}\n",
        "{\\sqrt{\\frac{s^{2}_{x}}{n_{x}} + \\frac{s^{2}_{y}}{n_{y}}}}$\n",
        "\n",
        "\n",
        " \n",
        "donde  $\\overline{x}$ y  $\\overline{y}$  son las medias muestrales,  $n_x$  y  $n_y$ son el número de observaciones en cada muestra,  $s^2_x$  y  $s^2_y$  las varianzas de cada muestra."
      ],
      "metadata": {
        "id": "iw_0icYoUG9g"
      }
    },
    {
      "cell_type": "markdown",
      "source": [
        "***Ejemplo T-test para dos muestras independientes con datos aleatorios***"
      ],
      "metadata": {
        "id": "lxDlLjUzxB0F"
      }
    },
    {
      "cell_type": "code",
      "source": [
        "# t-test para dos muestras independientes\n",
        "from math import sqrt\n",
        "from numpy.random import seed\n",
        "from numpy.random import randn\n",
        "from numpy import mean\n",
        "from scipy.stats import sem\n",
        "from scipy.stats import t\n",
        "\n",
        "# función para calcular la t-test para dos muestras independientes\n",
        "def independent_ttest(data1, data2, alpha):\n",
        "\t# calculamos la media\n",
        "\tmean1, mean2 = mean(data1), mean(data2)\n",
        "\t# calculamos la desviación típica\n",
        "\tse1, se2 = sem(data1), sem(data2)\n",
        "\t# desviación tipica en la diferencia entre las muestras\n",
        "\tsed = sqrt(se1**2.0 + se2**2.0)\n",
        "\t# calculamos la t experimental\n",
        "\tt_stat = (mean1 - mean2) / sed\n",
        "\t# grados de libertad\n",
        "\tdf = len(data1) + len(data2) - 2\n",
        "\t# calculamos el valor crítico\n",
        "\tcv = t.ppf(1.0 - alpha, df)\n",
        "\t# calculamos p-valor\n",
        "\tp = (1.0 - t.cdf(abs(t_stat), df)) * 2.0\n",
        "\t# función que nos devuelve todo\n",
        "\treturn t_stat, df, cv, p\n",
        "\n",
        "# semilla para generar números aleatorios\n",
        "seed(1)\n",
        "# generar dos muestras independientes\n",
        "data1 = 5 * randn(100) + 50\n",
        "data2 = 5 * randn(100) + 51\n",
        "# calculamos el t-test\n",
        "alpha = 0.05\n",
        "t_stat, df, cv, p = independent_ttest(data1, data2, alpha)\n",
        "print('t=%.3f, df=%d, cv=%.3f, p=%.3f' % (t_stat, df, cv, p))\n",
        "# interpretación del p-valor\n",
        "if p > alpha:\n",
        "\tprint('Aceptamos la hipótesis nula, es decir, no hay diferencia en medias.')\n",
        "else:\n",
        "\tprint('Rechazamos H1 y hay diferencias de medias.')"
      ],
      "metadata": {
        "colab": {
          "base_uri": "https://localhost:8080/"
        },
        "id": "Jo_npMtEvHpJ",
        "outputId": "ea33fc71-2faa-44aa-cbd3-3e0c049c3c44"
      },
      "execution_count": null,
      "outputs": [
        {
          "output_type": "stream",
          "name": "stdout",
          "text": [
            "t=-2.262, df=198, cv=1.653, p=0.025\n",
            "Rechazamos H1 y hay diferencias de medias.\n"
          ]
        }
      ]
    },
    {
      "cell_type": "markdown",
      "source": [
        "# t-test: comparación de medias poblacionales dependientes (nuestro caso)"
      ],
      "metadata": {
        "id": "23VoCW2Aar9G"
      }
    },
    {
      "cell_type": "markdown",
      "source": [
        "Son dependientes dos medias cuando existen relación entre las observaciones y \n",
        "las observaciones por tanto, no son aleatorias.\\\n",
        "Para  determinar si las observaciones tienen una diferencia significativa entre las condiciones  **A**  y  **B** , se calcula para cada uno \n",
        "el cambio en la magnitud estudiada  $d_i=A_i−B_i$ . A pesar de que no exista diferencia real entre las dos condiciones, al calcular la diferencia entre el antes y después de cada individuo, el promedio de todas las diferencias tenderá a cero (compensación de desviaciones). Es este promedio  ($\\mu_{diferencia}$) el que se estudia a través del estadístico muestral  $\\overline{d} = \\frac{\\sum_{i=1}^n (x_{antes} - x_{después})}{n}$ , determinando si el promedio de las diferencias observado se aleja lo suficiente de cero como para aceptar que el valor medio de ambos grupos no es el mismo.\n",
        "\n",
        "Los test dependientes tienen la ventaja de que se puede controlar mejor la variación no sistemática  ( producida por variables no contempladas en el estudio) frente a los independientes, ya que se examina los mismos individuos dos veces, no dos grupos de individuos distintos.\\\n",
        "Las **hipótesis** contrastadas por el t-test de muestras dependientes son:\n",
        "\n",
        "\n",
        "> $H_0$ : no hay diferencia entre las medias, el promedio de las diferencias es 0 ( $μ_d=0$ ) o  es un valor determinado ( $Δ$ ).\n",
        "\n",
        "\n",
        "\n",
        "> $H_1$ :  hay diferencia entre las variables, ( $μ_d≠0$ ) o  la diferencia es distinta al valor establecido en la hipótesis nula ( $μ_d≠Δ$ ).\n",
        "\n",
        "\n",
        "\n",
        "\n",
        "\n",
        "Siendo el t-test experimental para medias independientes:\n",
        "\n",
        "\n",
        "> $T_{calculado}= \\frac{\\overline{d} - valor H_0}{SE}$\n",
        "\n",
        "\n",
        "Siendo el SE del promedio de las diferencias igual a:\n",
        "\n",
        "\n",
        "> $SE=\\frac{\\widehat{S}_{d}}{\\sqrt{n}}$\n",
        "\n"
      ],
      "metadata": {
        "id": "dl_-0eAmbOUP"
      }
    },
    {
      "cell_type": "markdown",
      "source": [
        "***Ejemplo T-test para dos muestras dependientes con datos aleatorios***"
      ],
      "metadata": {
        "id": "jrgCx4sYxXWX"
      }
    },
    {
      "cell_type": "code",
      "source": [
        "# t-test para dos muestras dependientes\n",
        "from math import sqrt\n",
        "from numpy.random import seed\n",
        "from numpy.random import randn\n",
        "from numpy import mean\n",
        "from scipy.stats import t\n",
        "\n",
        "# función para calcular el t-test de dos muestras dependientes\n",
        "def dependent_ttest(data1, data2, alpha):\n",
        "\t# calculamos la media\n",
        "\tmean1, mean2 = mean(data1), mean(data2)\n",
        "\t# numero de muestras\n",
        "\tn = len(data1)\n",
        "\t# suma al cuadrado de la diferencia entre observaciones\n",
        "\td1 = sum([(data1[i]-data2[i])**2 for i in range(n)])\n",
        "\td2 = sum([data1[i]-data2[i] for i in range(n)])\n",
        "\t# desviación típica en la diferencia entre las medias\n",
        "\tsd = sqrt((d1 - (d2**2 / n)) / (n - 1))\n",
        "\t# calculamos el SE\n",
        "\tse = sd / sqrt(n)\n",
        "\t# calculamos el t experimental\n",
        "\tt_stat = (mean1 - mean2) / se\n",
        "\t# grados de libertad\n",
        "\tdf = n - 1\n",
        "\t# valor crítico\n",
        "\tcv = t.ppf(1.0 - alpha, df)\n",
        "\t# p-valor\n",
        "\tp = (1.0 - t.cdf(abs(t_stat), df)) * 2.0\n",
        "\t# nos devuelve todo\n",
        "\treturn t_stat, df, cv, p\n",
        "\n",
        "# semilla del generador de números aleatorios\n",
        "seed(1)\n",
        "# generamos dos muestras independientes pretendiendo que sean dependientes\n",
        "data1 = 5 * randn(100) + 50\n",
        "data2 = 5 * randn(100) + 51\n",
        "# calculamos la t experimental\n",
        "alpha = 0.05\n",
        "t_stat, df, cv, p = dependent_ttest(data1, data2, alpha)\n",
        "print('t=%.3f, df=%d, cv=%.3f, p=%.3f' % (t_stat, df, cv, p))\n",
        "# interpretación del p-valor\n",
        "if p > alpha:\n",
        "\tprint('Aceptamos la hipótesis nula, es decir, no hay diferencia en medias.')\n",
        "else:\n",
        "\tprint('Rechazamos H1 y hay diferencias de medias.')"
      ],
      "metadata": {
        "colab": {
          "base_uri": "https://localhost:8080/"
        },
        "id": "rLhJLNmbxTUu",
        "outputId": "fb693144-3507-413f-8eab-058a773bae94"
      },
      "execution_count": null,
      "outputs": [
        {
          "output_type": "stream",
          "name": "stdout",
          "text": [
            "t=-2.372, df=99, cv=1.660, p=0.020\n",
            "Rechazamos H1 y hay diferencias de medias.\n"
          ]
        }
      ]
    }
  ]
}
