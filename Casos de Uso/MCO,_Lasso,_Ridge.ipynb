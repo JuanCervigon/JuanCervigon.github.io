{
  "nbformat": 4,
  "nbformat_minor": 0,
  "metadata": {
    "colab": {
      "name": "MCO, Lasso, Ridge.ipynb",
      "provenance": [],
      "collapsed_sections": []
    },
    "kernelspec": {
      "name": "python3",
      "display_name": "Python 3"
    },
    "language_info": {
      "name": "python"
    }
  },
  "cells": [
    {
      "cell_type": "markdown",
      "metadata": {
        "id": "VZQ3l1iWS1zp"
      },
      "source": [
        "#Regularización Lasso y Ridge"
      ]
    },
    {
      "cell_type": "markdown",
      "metadata": {
        "id": "fIMOiyWqRvwK"
      },
      "source": [
        "Las *estrategias de regularización* incorporan penalizaciones en el ajuste por mínimos cuadrados ordinarios (OLS) con la intención de minimizar la influencia de los predictores menos relevantes o para evitar overfitting. Por lo general, aplicando regularización se consigue modelos con mayor poder predictivo.\n"
      ]
    },
    {
      "cell_type": "markdown",
      "metadata": {
        "id": "4qbPj_DM98Ag"
      },
      "source": [
        "En este caso, se va a hacer una comparación entre el modelo de mínimos cuadrados ordinarios (OLS) respecto al modelo de Lasso y el modelo de Ridge (modelos de regularización), los cuales se explicarán más adelante."
      ]
    },
    {
      "cell_type": "markdown",
      "metadata": {
        "id": "Z_neK5Xb-XsO"
      },
      "source": [
        "En un primer momento, cargamos y analizamos los datos:"
      ]
    },
    {
      "cell_type": "markdown",
      "metadata": {
        "id": "oYrURjap4g_i"
      },
      "source": [
        "##Librerías"
      ]
    },
    {
      "cell_type": "code",
      "metadata": {
        "id": "UKdFlKZj1fsf"
      },
      "source": [
        "import numpy as np\n",
        "import pandas as pd\n",
        "import matplotlib.pyplot as plt\n",
        "import seaborn as sns"
      ],
      "execution_count": null,
      "outputs": []
    },
    {
      "cell_type": "markdown",
      "metadata": {
        "id": "K5MKidhS4m2a"
      },
      "source": [
        "##Datos"
      ]
    },
    {
      "cell_type": "code",
      "metadata": {
        "colab": {
          "resources": {
            "http://localhost:8080/nbextensions/google.colab/files.js": {
              "data": "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",
              "ok": true,
              "headers": [
                [
                  "content-type",
                  "application/javascript"
                ]
              ],
              "status": 200,
              "status_text": ""
            }
          },
          "base_uri": "https://localhost:8080/",
          "height": 225
        },
        "id": "StkEU3rV1kYX",
        "outputId": "c6367e93-073c-47d2-be15-6a39e011b411"
      },
      "source": [
        "#Cargar el dataset\n",
        "from google.colab import files\n",
        "uploaded = files.upload()\n",
        "ccaa = 'desigualdad_ccaa.xlsx'\n",
        "data = pd.read_excel(ccaa, sheet_name='Datos', header = 0)\n",
        "\n",
        "print (data.head(6))"
      ],
      "execution_count": null,
      "outputs": [
        {
          "output_type": "display_data",
          "data": {
            "text/html": [
              "\n",
              "     <input type=\"file\" id=\"files-2e25eab1-c89e-43d4-ae06-216ed983dfa5\" name=\"files[]\" multiple disabled\n",
              "        style=\"border:none\" />\n",
              "     <output id=\"result-2e25eab1-c89e-43d4-ae06-216ed983dfa5\">\n",
              "      Upload widget is only available when the cell has been executed in the\n",
              "      current browser session. Please rerun this cell to enable.\n",
              "      </output>\n",
              "      <script src=\"/nbextensions/google.colab/files.js\"></script> "
            ],
            "text/plain": [
              "<IPython.core.display.HTML object>"
            ]
          },
          "metadata": {}
        },
        {
          "output_type": "stream",
          "name": "stdout",
          "text": [
            "Saving desigualdad_ccaa.xlsx to desigualdad_ccaa.xlsx\n",
            "                          CCAA  PIBpc  Rmedper  ...  Empint  Empweb  Empsoc\n",
            "0                    Andalucía  19633     9160  ...    98.2    71.5    54.3\n",
            "1                       Aragón  28727    12300  ...    98.3    85.4    64.7\n",
            "2      Asturias, Principado de  23299    12523  ...    98.1    81.6    61.3\n",
            "3               Balears, Illes  28213    12410  ...    97.6    81.4    73.0\n",
            "4                     Canarias  21244     9487  ...    97.8    67.8    62.8\n",
            "5                    Cantabria  24383    12205  ...    98.6    72.7    65.9\n",
            "\n",
            "[6 rows x 50 columns]\n"
          ]
        }
      ]
    },
    {
      "cell_type": "markdown",
      "source": [
        "En este caso vamos a estudiar si la Tasa de Riesgo de Pobreza (Riespob) viene explicadao por:\n",
        "\n",
        "\n",
        "*   Salario medio anual (Salmed).\n",
        "*   Porcentaje de población analfabeta (Analf).\n",
        "* Porcentaje de personas que valoran su estado de salud como malo o muy malo (Salmal).\n",
        "* Porcentaje de ocupados a tiempo completo (Ocuptc).\n",
        "\n",
        "\n",
        "\n",
        "\n"
      ],
      "metadata": {
        "id": "5bzx8CC-b17r"
      }
    },
    {
      "cell_type": "code",
      "metadata": {
        "id": "sTaBuLBPmmm3"
      },
      "source": [
        "#Nos quedamos con los datos que queremos\n",
        "datos = data[['Salmed', 'Analf', 'Salmal', 'Ocuptc', 'Riespob']]\n",
        "#Los dividimos entre los que serán las variables explicativas y explicadas\n",
        "X = datos.drop('Riespob', axis=1)\n",
        "y = datos['Riespob']"
      ],
      "execution_count": null,
      "outputs": []
    },
    {
      "cell_type": "code",
      "metadata": {
        "colab": {
          "base_uri": "https://localhost:8080/",
          "height": 204
        },
        "id": "a1kiJekn2wt0",
        "outputId": "205b332c-8ee2-42f2-c0fb-9bfa026755a6"
      },
      "source": [
        "#Visualizamos que se han seleccionado los datos correctamente\n",
        "datos.head()"
      ],
      "execution_count": null,
      "outputs": [
        {
          "output_type": "execute_result",
          "data": {
            "text/html": [
              "<div>\n",
              "<style scoped>\n",
              "    .dataframe tbody tr th:only-of-type {\n",
              "        vertical-align: middle;\n",
              "    }\n",
              "\n",
              "    .dataframe tbody tr th {\n",
              "        vertical-align: top;\n",
              "    }\n",
              "\n",
              "    .dataframe thead th {\n",
              "        text-align: right;\n",
              "    }\n",
              "</style>\n",
              "<table border=\"1\" class=\"dataframe\">\n",
              "  <thead>\n",
              "    <tr style=\"text-align: right;\">\n",
              "      <th></th>\n",
              "      <th>Salmed</th>\n",
              "      <th>Analf</th>\n",
              "      <th>Salmal</th>\n",
              "      <th>Ocuptc</th>\n",
              "      <th>Riespob</th>\n",
              "    </tr>\n",
              "  </thead>\n",
              "  <tbody>\n",
              "    <tr>\n",
              "      <th>0</th>\n",
              "      <td>21805.92</td>\n",
              "      <td>2.6</td>\n",
              "      <td>7.75</td>\n",
              "      <td>84.6</td>\n",
              "      <td>31.3</td>\n",
              "    </tr>\n",
              "    <tr>\n",
              "      <th>1</th>\n",
              "      <td>23531.83</td>\n",
              "      <td>0.7</td>\n",
              "      <td>6.54</td>\n",
              "      <td>86.2</td>\n",
              "      <td>17.9</td>\n",
              "    </tr>\n",
              "    <tr>\n",
              "      <th>2</th>\n",
              "      <td>23914.61</td>\n",
              "      <td>0.5</td>\n",
              "      <td>6.53</td>\n",
              "      <td>86.1</td>\n",
              "      <td>20.7</td>\n",
              "    </tr>\n",
              "    <tr>\n",
              "      <th>3</th>\n",
              "      <td>22800.87</td>\n",
              "      <td>1.5</td>\n",
              "      <td>4.99</td>\n",
              "      <td>87.3</td>\n",
              "      <td>12.0</td>\n",
              "    </tr>\n",
              "    <tr>\n",
              "      <th>4</th>\n",
              "      <td>20763.48</td>\n",
              "      <td>1.6</td>\n",
              "      <td>7.55</td>\n",
              "      <td>87.1</td>\n",
              "      <td>28.5</td>\n",
              "    </tr>\n",
              "  </tbody>\n",
              "</table>\n",
              "</div>"
            ],
            "text/plain": [
              "     Salmed  Analf  Salmal  Ocuptc  Riespob\n",
              "0  21805.92    2.6    7.75    84.6     31.3\n",
              "1  23531.83    0.7    6.54    86.2     17.9\n",
              "2  23914.61    0.5    6.53    86.1     20.7\n",
              "3  22800.87    1.5    4.99    87.3     12.0\n",
              "4  20763.48    1.6    7.55    87.1     28.5"
            ]
          },
          "metadata": {},
          "execution_count": 7
        }
      ]
    },
    {
      "cell_type": "markdown",
      "metadata": {
        "id": "WQPjDNJg4ucH"
      },
      "source": [
        "##Visualización correlación entre variables"
      ]
    },
    {
      "cell_type": "markdown",
      "source": [
        "Se procede en un principio a estudiar de manera sencilla la correlación entre variables. La correlación varía entre el 1 y -1 (por lo tanto, puede ser positiva o negativa), siendo 0 cuando no hay correlación.\n",
        "Este primer paso es útil debido a que nos permite observar:\n",
        "\n",
        "\n",
        "1.   Cuales podrían ser buenos predictores del modelo (correlación alta entre la variable dependiente y las independientes).\n",
        "2.   Estidar la colinealidad entre las variables independientes.\n",
        "\n"
      ],
      "metadata": {
        "id": "AzYOTGENZgNY"
      }
    },
    {
      "cell_type": "code",
      "metadata": {
        "colab": {
          "base_uri": "https://localhost:8080/",
          "height": 204
        },
        "id": "NrEvigb-8J6M",
        "outputId": "a5fc06ad-17fe-434a-f272-d4f2f233ac9e"
      },
      "source": [
        "#Creación de la matriz de correlación\n",
        "corr_matr = datos.corr()\n",
        "display(corr_matr)"
      ],
      "execution_count": null,
      "outputs": [
        {
          "output_type": "display_data",
          "data": {
            "text/html": [
              "<div>\n",
              "<style scoped>\n",
              "    .dataframe tbody tr th:only-of-type {\n",
              "        vertical-align: middle;\n",
              "    }\n",
              "\n",
              "    .dataframe tbody tr th {\n",
              "        vertical-align: top;\n",
              "    }\n",
              "\n",
              "    .dataframe thead th {\n",
              "        text-align: right;\n",
              "    }\n",
              "</style>\n",
              "<table border=\"1\" class=\"dataframe\">\n",
              "  <thead>\n",
              "    <tr style=\"text-align: right;\">\n",
              "      <th></th>\n",
              "      <th>Salmed</th>\n",
              "      <th>Analf</th>\n",
              "      <th>Salmal</th>\n",
              "      <th>Ocuptc</th>\n",
              "      <th>Riespob</th>\n",
              "    </tr>\n",
              "  </thead>\n",
              "  <tbody>\n",
              "    <tr>\n",
              "      <th>Salmed</th>\n",
              "      <td>1.000000</td>\n",
              "      <td>-0.594097</td>\n",
              "      <td>0.148903</td>\n",
              "      <td>-0.195036</td>\n",
              "      <td>-0.729540</td>\n",
              "    </tr>\n",
              "    <tr>\n",
              "      <th>Analf</th>\n",
              "      <td>-0.594097</td>\n",
              "      <td>1.000000</td>\n",
              "      <td>-0.367409</td>\n",
              "      <td>-0.017558</td>\n",
              "      <td>0.782829</td>\n",
              "    </tr>\n",
              "    <tr>\n",
              "      <th>Salmal</th>\n",
              "      <td>0.148903</td>\n",
              "      <td>-0.367409</td>\n",
              "      <td>1.000000</td>\n",
              "      <td>-0.065431</td>\n",
              "      <td>-0.153341</td>\n",
              "    </tr>\n",
              "    <tr>\n",
              "      <th>Ocuptc</th>\n",
              "      <td>-0.195036</td>\n",
              "      <td>-0.017558</td>\n",
              "      <td>-0.065431</td>\n",
              "      <td>1.000000</td>\n",
              "      <td>0.138214</td>\n",
              "    </tr>\n",
              "    <tr>\n",
              "      <th>Riespob</th>\n",
              "      <td>-0.729540</td>\n",
              "      <td>0.782829</td>\n",
              "      <td>-0.153341</td>\n",
              "      <td>0.138214</td>\n",
              "      <td>1.000000</td>\n",
              "    </tr>\n",
              "  </tbody>\n",
              "</table>\n",
              "</div>"
            ],
            "text/plain": [
              "           Salmed     Analf    Salmal    Ocuptc   Riespob\n",
              "Salmed   1.000000 -0.594097  0.148903 -0.195036 -0.729540\n",
              "Analf   -0.594097  1.000000 -0.367409 -0.017558  0.782829\n",
              "Salmal   0.148903 -0.367409  1.000000 -0.065431 -0.153341\n",
              "Ocuptc  -0.195036 -0.017558 -0.065431  1.000000  0.138214\n",
              "Riespob -0.729540  0.782829 -0.153341  0.138214  1.000000"
            ]
          },
          "metadata": {}
        }
      ]
    },
    {
      "cell_type": "code",
      "metadata": {
        "colab": {
          "base_uri": "https://localhost:8080/",
          "height": 269
        },
        "id": "gXY41yGbv_PR",
        "outputId": "44f4b171-989b-4abf-e4ce-f62b0313a24f"
      },
      "source": [
        "# Heatmap matriz de correlaciones\n",
        "\n",
        "heat_map = sns.heatmap(corr_matr)\n",
        "heat_map;"
      ],
      "execution_count": null,
      "outputs": [
        {
          "output_type": "display_data",
          "data": {
            "image/png": "[encoded data removed]",
            "text/plain": [
              "<Figure size 432x288 with 2 Axes>"
            ]
          },
          "metadata": {
            "needs_background": "light"
          }
        }
      ]
    },
    {
      "cell_type": "markdown",
      "source": [
        "Como vemos aquí, tanto a través de la matriz de correlación como con el heatmap, la variable dependiente (Riesgo de Pobreza) tiene una correlación alta con Salario medio y Analfabetos. Si bien, entre estas dos variables independientes también se puede considerar que hay correlación alta."
      ],
      "metadata": {
        "id": "-iYPiEtpbKtf"
      }
    },
    {
      "cell_type": "markdown",
      "metadata": {
        "id": "B81bD-Qv-f7L"
      },
      "source": [
        "Ahora se procede a realizar cada uno de los 3 modelos. Veremos así, si los modelos de regularización \"mejoran\" o no, para este caso, el modelo obtenido a partir de Mínimos Cuadrados Ordinarios."
      ]
    },
    {
      "cell_type": "markdown",
      "metadata": {
        "id": "w2nm725k0kIZ"
      },
      "source": [
        "##Mínimos Cuadrados Ordinarios"
      ]
    },
    {
      "cell_type": "markdown",
      "metadata": {
        "id": "If8HeCHwLBvH"
      },
      "source": [
        "El método de los mínimos cuadrados se utiliza para calcular la recta de regresión lineal que minimiza los residuos, esto es, las diferencias entre los valores reales y los estimados por la recta. (https://anestesiar.org/2020/la-distancia-mas-corta-el-metodo-de-los-minimos-cuadrados/)"
      ]
    },
    {
      "cell_type": "code",
      "metadata": {
        "id": "MFAUwARC0jvl"
      },
      "source": [
        "from sklearn.linear_model import LinearRegression\n",
        "\n",
        "reg_lin =LinearRegression()\n",
        "reg_lin = reg_lin.fit(X,y) # ajuste del modelo\n",
        "\n",
        "#Cálculo de los coeficientes\n",
        "b0_m=round(reg_lin.intercept_,2) \n",
        "b1_m=round(reg_lin.coef_[0],4) \n",
        "b2_m=round(reg_lin.coef_[1],2) \n",
        "b3_m=round(reg_lin.coef_[2],2)\n",
        "b4_m=round(reg_lin.coef_[3],2)\n",
        "r2_m=round(reg_lin.score(X, y),2) "
      ],
      "execution_count": null,
      "outputs": []
    },
    {
      "cell_type": "markdown",
      "metadata": {
        "id": "ziU0NDom44-4"
      },
      "source": [
        "##Modelo Lasso"
      ]
    },
    {
      "cell_type": "markdown",
      "metadata": {
        "id": "n_sR-tphSoOj"
      },
      "source": [
        "La **regularización Lasso** penaliza la suma del valor absolutos de los coeficientes de regresión. A esta penalización se le conoce como l1 y tiene el efecto de forzar a que los coeficientes de los predictores tiendan a cero. Dado que un predictor con coeficiente de regresión cero no influye en el modelo, lasso consigue excluir los predictores menos relevantes. (https://www.cienciadedatos.net/documentos/py14-ridge-lasso-elastic-net-python.html)"
      ]
    },
    {
      "cell_type": "code",
      "metadata": {
        "id": "k5AlIulp2IdF"
      },
      "source": [
        "# Creación del modelo\n",
        "from sklearn.linear_model import LassoCV\n",
        "reg_lasso = LassoCV(\n",
        "            alphas          = np.logspace(-10, 3, 200),\n",
        "            normalize       = True,\n",
        "            cv              = 10\n",
        "         )\n",
        "reg_lasso = reg_lasso.fit(X,y)\n",
        "\n",
        "#Cálculo de los coeficientes\n",
        "b0_l=round(reg_lasso.intercept_,2)\n",
        "b1_l=round(reg_lasso.coef_[0],4)\n",
        "b2_l=round(reg_lasso.coef_[1],2) \n",
        "b3_l=round(reg_lasso.coef_[2],2)\n",
        "b4_l=round(reg_lasso.coef_[3],2)\n",
        "r2_l=round(reg_lasso.score(X, y),2)"
      ],
      "execution_count": null,
      "outputs": []
    },
    {
      "cell_type": "markdown",
      "metadata": {
        "id": "QSJtVgHI1cT4"
      },
      "source": [
        "#Ridge"
      ]
    },
    {
      "cell_type": "markdown",
      "metadata": {
        "id": "FdRFixyuLiK6"
      },
      "source": [
        "La **regularización Ridge** penaliza la suma de los coeficientes elevados al cuadrado. A esta penalización se le conoce como l2 y tiene el efecto de reducir de forma proporcional el valor de todos los coeficientes del modelo pero sin que estos lleguen a cero. (https://www.cienciadedatos.net/documentos/py14-ridge-lasso-elastic-net-python.html)"
      ]
    },
    {
      "cell_type": "code",
      "metadata": {
        "id": "rZ6e6Nf01b1M"
      },
      "source": [
        "from sklearn.linear_model import RidgeCV\n",
        "\n",
        "reg_ridge  = RidgeCV(\n",
        "            alphas          = np.logspace(-10, 2, 200),\n",
        "            fit_intercept   = True,\n",
        "            normalize       = True,\n",
        "            store_cv_values = True\n",
        "         )\n",
        "reg_ridge = reg_ridge.fit(X,y)\n",
        "\n",
        "#Cálculo de los coeficientes\n",
        "b0_r=round(reg_ridge.intercept_,2) \n",
        "b1_r=round(reg_ridge.coef_[0],4) \n",
        "b2_r=round(reg_ridge.coef_[1],2) \n",
        "b3_r=round(reg_ridge.coef_[2],2)\n",
        "b4_r=round(reg_ridge.coef_[3],2)\n",
        "r2_r=round(reg_ridge.score(X, y),2) "
      ],
      "execution_count": null,
      "outputs": []
    },
    {
      "cell_type": "markdown",
      "metadata": {
        "id": "1JSmwr4wGBcI"
      },
      "source": [
        "Error cuadrático medio"
      ]
    },
    {
      "cell_type": "code",
      "metadata": {
        "id": "Zd0fdP34wgiz"
      },
      "source": [
        "#Valores originales\n",
        "Y_true = y\n",
        "\n",
        "#predicciones regresión lineal\n",
        "Y_pred_m = reg_lin.predict(X)\n",
        "Y_pred_m = Y_pred_m.flatten()\n",
        "\n",
        "#predicciones regresión lasso\n",
        "Y_pred_l = reg_lasso.predict(X)\n",
        "Y_pred_l = Y_pred_l.flatten()\n",
        "\n",
        "#predicciones regresión ridge\n",
        "Y_pred_r = reg_ridge.predict(X)\n",
        "Y_pred_r = Y_pred_r.flatten()"
      ],
      "execution_count": null,
      "outputs": []
    },
    {
      "cell_type": "markdown",
      "metadata": {
        "id": "PoW1j1FXyNou"
      },
      "source": [
        "Vemos que cada predicción toma unos valores diferentes"
      ]
    },
    {
      "cell_type": "code",
      "metadata": {
        "colab": {
          "base_uri": "https://localhost:8080/"
        },
        "id": "JaYSuEYpvXGQ",
        "outputId": "218850f1-7219-4616-f1d3-eb3c526b9edc"
      },
      "source": [
        "print('* Predicción_MSO:',Y_pred_m ,'\\n*', 'Predicción_Lasso:', Y_pred_l, '\\n*', 'Predicción_Ridge:', Y_pred_r)"
      ],
      "execution_count": null,
      "outputs": [
        {
          "output_type": "stream",
          "name": "stdout",
          "text": [
            "* Predicción_MSO: [27.48434334 16.13949202 14.64767286 20.30115606 25.09523013 16.62757519\n",
            " 17.48234201 24.32651202 17.62157316 20.51816666 29.79067285 21.43903578\n",
            " 11.58622853 30.95490971 11.90257463  7.57420721 15.10830785] \n",
            "* Predicción_Lasso: [25.5051536  16.69103464 15.54315657 20.40690563 23.00098286 16.30221893\n",
            " 18.32957902 23.73689338 17.03084012 20.78636021 30.09001797 19.55768226\n",
            " 12.51924698 28.37980574 13.2263829  10.55701557 16.93672363] \n",
            "* Predicción_Ridge: [25.76770518 16.86741298 15.62957215 20.60205735 24.18303628 16.93705717\n",
            " 18.19107372 23.75002681 17.26259089 20.45459613 28.91198045 20.64819211\n",
            " 12.60001022 28.70940422 12.59542619  9.16094778 16.32891036]\n"
          ]
        }
      ]
    },
    {
      "cell_type": "code",
      "metadata": {
        "id": "TOQlpqlSyR8m"
      },
      "source": [
        "from sklearn.metrics import mean_squared_error\n",
        "\n",
        "# Cálculo del Mean Squared Error (MSE)\n",
        "mse_m = mean_squared_error(Y_true,Y_pred_m)\n",
        "mse_l = mean_squared_error(Y_true,Y_pred_l)\n",
        "mse_r = mean_squared_error(Y_true,Y_pred_r)"
      ],
      "execution_count": null,
      "outputs": []
    },
    {
      "cell_type": "markdown",
      "metadata": {
        "id": "58CWZRs9G1lr"
      },
      "source": [
        "Ponemos la información de los coeficientes obtenidos para cada modelo en una misma tabla para así ser capaces de analizar y comparar los resultados."
      ]
    },
    {
      "cell_type": "code",
      "metadata": {
        "id": "4EaGXrlK-wkI"
      },
      "source": [
        "#import tabulate as tabulate\n",
        "from tabulate import tabulate"
      ],
      "execution_count": null,
      "outputs": []
    },
    {
      "cell_type": "code",
      "metadata": {
        "id": "jY8tw5oODvw6"
      },
      "source": [
        "table = [['','','MCO', 'Lasso', 'Ridge'], ['','b0', b0_m, b0_l, b0_r], ['(salmed)','b1', b1_m, b1_l, b1_r], ['(analf)','b2', b2_m, b2_l, b2_r], ['(salamal)','b3', b3_m, b3_l, b3_r], \n",
        "         ['(Ocuptc)','b4', b4_m, b4_l, b4_r], ['','R2', r2_m, r2_l, r2_r], ['','MSE', mse_m, mse_l, mse_r]]"
      ],
      "execution_count": null,
      "outputs": []
    },
    {
      "cell_type": "code",
      "metadata": {
        "colab": {
          "base_uri": "https://localhost:8080/"
        },
        "id": "nZlTzjchFpAf",
        "outputId": "1d0b957e-a113-4830-98f6-c05b92e4a4e9"
      },
      "source": [
        "print(tabulate(table, headers= 'firstrow', tablefmt='fancy_grid'))"
      ],
      "execution_count": null,
      "outputs": [
        {
          "output_type": "stream",
          "name": "stdout",
          "text": [
            "╒═══════════╤═════╤══════════╤═════════╤═════════╕\n",
            "│           │     │      MCO │   Lasso │   Ridge │\n",
            "╞═══════════╪═════╪══════════╪═════════╪═════════╡\n",
            "│           │ b0  │ -10      │ 39.89   │  4.36   │\n",
            "├───────────┼─────┼──────────┼─────────┼─────────┤\n",
            "│ (salmed)  │ b1  │  -0.0012 │ -0.0011 │ -0.0012 │\n",
            "├───────────┼─────┼──────────┼─────────┼─────────┤\n",
            "│ (analf)   │ b2  │   4.84   │  3.64   │  3.74   │\n",
            "├───────────┼─────┼──────────┼─────────┼─────────┤\n",
            "│ (salamal) │ b3  │   0.76   │  0      │  0.36   │\n",
            "├───────────┼─────┼──────────┼─────────┼─────────┤\n",
            "│ (Ocuptc)  │ b4  │   0.54   │  0      │  0.41   │\n",
            "├───────────┼─────┼──────────┼─────────┼─────────┤\n",
            "│           │ R2  │   0.74   │  0.7    │  0.72   │\n",
            "├───────────┼─────┼──────────┼─────────┼─────────┤\n",
            "│           │ MSE │  14.2587 │ 16.3844 │ 15.34   │\n",
            "╘═══════════╧═════╧══════════╧═════════╧═════════╛\n"
          ]
        }
      ]
    },
    {
      "cell_type": "markdown",
      "source": [
        "RESULTADO COMPARACIÓN DATOS: El modelo conseguido a través de MCO (OSL en inglés) aporta tanto un R2 mayor como un Error Menor que el resto, por lo que en un principio este sería el modelo que nos convendría más.\n",
        "No obstante, si que vemos diferencias entre los 3 modelos, pues los de regularización otorgan relativamente menor peso a los predictores de lo que lo hace por MCO, llegando incluso el modelo de Lasso a descartar las variables Salmal y Ocuptc."
      ],
      "metadata": {
        "id": "SPEB3MB1d1q7"
      }
    }
  ]
}