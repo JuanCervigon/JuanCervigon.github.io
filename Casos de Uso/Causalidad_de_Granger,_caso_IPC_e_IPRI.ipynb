{
  "nbformat": 4,
  "nbformat_minor": 0,
  "metadata": {
    "colab": {
      "name": "Causalidad de Granger, caso IPC e IPRI.ipynb",
      "provenance": [],
      "collapsed_sections": []
    },
    "kernelspec": {
      "name": "python3",
      "display_name": "Python 3"
    },
    "language_info": {
      "name": "python"
    }
  },
  "cells": [
    {
      "cell_type": "markdown",
      "source": [
        "#Causalidad de Granger: caso IPC e IPRI"
      ],
      "metadata": {
        "id": "shgfnCf72CF2"
      }
    },
    {
      "cell_type": "markdown",
      "source": [
        "Se procede aquí a analizar <ins> el impacto del IPRI sobre el IPC </ins> de forma que se muestre en qué medida la evolución de los precios industriales se traslada a los precios al consumo.\n",
        "\n",
        "Para ello utilizaremos el concepto de **causalidad de Granger**.\n",
        "\n",
        "Dicho concepto considera que una serie temporal X (en nuestro caso el IPRI) *causa-granger* una serie temporal Y (en nuestro caso el IPC) si la predicción de Y dados los valores pasados de X e Y es mejor que la predicción de Y dado sólo los valores de Y. Es decir, se dice que X causa-granger Y cuando los valores pasados de X aportan capacidad predictiva.\n"
      ],
      "metadata": {
        "id": "u8AFa8jX2KAV"
      }
    },
    {
      "cell_type": "markdown",
      "source": [
        "Con el objetivo de llevarlo a cabo, se realizarán los siguientes pasos:\n",
        "\n",
        "\n",
        "1.   Cargar el dataset que contiene las series temporales (2002M01-2020M2) de:\n",
        "\n",
        "> *   IPC: Índice general más los 12 grupos ECOICOP\n",
        "> *   IPRI: índice general más las 4 secciones en las que se desagrega\n",
        "\n",
        "2.   Convertir las series (si no lo fueran) es estacionarias - Test Dickey-Fuller.\n",
        "3. Test de causalidad de Granger.\n",
        "\n",
        "\n",
        "\n",
        "\n",
        "\n",
        "\n"
      ],
      "metadata": {
        "id": "I9wUNL0I6egy"
      }
    },
    {
      "cell_type": "markdown",
      "source": [
        "##Datos"
      ],
      "metadata": {
        "id": "Cgh2M-i1vgj8"
      }
    },
    {
      "cell_type": "markdown",
      "source": [
        "En un primer paso, cargamos los paquetes que se van a utilizar y subimos el dataset con el que vamos a trabajar"
      ],
      "metadata": {
        "id": "V9yG-J928ZO-"
      }
    },
    {
      "cell_type": "code",
      "execution_count": 2,
      "metadata": {
        "id": "cgpIWl7fTlbM"
      },
      "outputs": [],
      "source": [
        "#Importamos los paquetes que vamos a usar \n",
        "import numpy as np\n",
        "import pandas as pd\n",
        "import matplotlib.pyplot as plt \n",
        "from matplotlib import pyplot #gráficos\n",
        "from statsmodels.tsa.stattools import adfuller #test dickey-fuller\n",
        "from statsmodels.tsa.api import VAR #modelo autorregresivo\n",
        "from statsmodels.tsa.stattools import grangercausalitytests #test de granger\n",
        "\n"
      ]
    },
    {
      "cell_type": "code",
      "source": [
        "#Cargar el dataset\n",
        "from google.colab import files\n",
        "uploaded = files.upload()\n",
        "dataset = 'causalidad_granger_ipc_ipri.xlsx'\n",
        "data = pd.read_excel(dataset, sheet_name='Datos', header = 0)\n",
        "\n",
        "data.head(6)"
      ],
      "metadata": {
        "colab": {
          "resources": {
            "http://localhost:8080/nbextensions/google.colab/files.js": {
              "data": "Ly8gQ29weXJpZ2h0IDIwMTcgR29vZ2xlIExMQwovLwovLyBMaWNlbnNlZCB1bmRlciB0aGUgQXBhY2hlIExpY2Vuc2UsIFZlcnNpb24gMi4wICh0aGUgIkxpY2Vuc2UiKTsKLy8geW91IG1heSBub3QgdXNlIHRoaXMgZmlsZSBleGNlcHQgaW4gY29tcGxpYW5jZSB3aXRoIHRoZSBMaWNlbnNlLgovLyBZb3UgbWF5IG9idGFpbiBhIGNvcHkgb2YgdGhlIExpY2Vuc2UgYXQKLy8KLy8gICAgICBodHRwOi8vd3d3LmFwYWNoZS5vcmcvbGljZW5zZXMvTElDRU5TRS0yLjAKLy8KLy8gVW5sZXNzIHJlcXVpcmVkIGJ5IGFwcGxpY2FibGUgbGF3IG9yIGFncmVlZCB0byBpbiB3cml0aW5nLCBzb2Z0d2FyZQovLyBkaXN0cmlidXRlZCB1bmRlciB0aGUgTGljZW5zZSBpcyBkaXN0cmlidXRlZCBvbiBhbiAiQVMgSVMiIEJBU0lTLAovLyBXSVRIT1VUIFdBUlJBTlRJRVMgT1IgQ09ORElUSU9OUyBPRiBBTlkgS0lORCwgZWl0aGVyIGV4cHJlc3Mgb3IgaW1wbGllZC4KLy8gU2VlIHRoZSBMaWNlbnNlIGZvciB0aGUgc3BlY2lmaWMgbGFuZ3VhZ2UgZ292ZXJuaW5nIHBlcm1pc3Npb25zIGFuZAovLyBsaW1pdGF0aW9ucyB1bmRlciB0aGUgTGljZW5zZS4KCi8qKgogKiBAZmlsZW92ZXJ2aWV3IEhlbHBlcnMgZm9yIGdvb2dsZS5jb2xhYiBQeXRob24gbW9kdWxlLgogKi8KKGZ1bmN0aW9uKHNjb3BlKSB7CmZ1bmN0aW9uIHNwYW4odGV4dCwgc3R5bGVBdHRyaWJ1dGVzID0ge30pIHsKICBjb25zdCBlbGVtZW50ID0gZG9jdW1lbnQuY3JlYXRlRWxlbWVudCgnc3BhbicpOwogIGVsZW1lbnQudGV4dENvbnRlbnQgPSB0ZXh0OwogIGZvciAoY29uc3Qga2V5IG9mIE9iamVjdC5rZXlzKHN0eWxlQXR0cmlidXRlcykpIHsKICAgIGVsZW1lbnQuc3R5bGVba2V5XSA9IHN0eWxlQXR0cmlidXRlc1trZXldOwogIH0KICByZXR1cm4gZWxlbWVudDsKfQoKLy8gTWF4IG51bWJlciBvZiBieXRlcyB3aGljaCB3aWxsIGJlIHVwbG9hZGVkIGF0IGEgdGltZS4KY29uc3QgTUFYX1BBWUxPQURfU0laRSA9IDEwMCAqIDEwMjQ7CgpmdW5jdGlvbiBfdXBsb2FkRmlsZXMoaW5wdXRJZCwgb3V0cHV0SWQpIHsKICBjb25zdCBzdGVwcyA9IHVwbG9hZEZpbGVzU3RlcChpbnB1dElkLCBvdXRwdXRJZCk7CiAgY29uc3Qgb3V0cHV0RWxlbWVudCA9IGRvY3VtZW50LmdldEVsZW1lbnRCeUlkKG91dHB1dElkKTsKICAvLyBDYWNoZSBzdGVwcyBvbiB0aGUgb3V0cHV0RWxlbWVudCB0byBtYWtlIGl0IGF2YWlsYWJsZSBmb3IgdGhlIG5leHQgY2FsbAogIC8vIHRvIHVwbG9hZEZpbGVzQ29udGludWUgZnJvbSBQeXRob24uCiAgb3V0cHV0RWxlbWVudC5zdGVwcyA9IHN0ZXBzOwoKICByZXR1cm4gX3VwbG9hZEZpbGVzQ29udGludWUob3V0cHV0SWQpOwp9CgovLyBUaGlzIGlzIHJvdWdobHkgYW4gYXN5bmMgZ2VuZXJhdG9yIChub3Qgc3VwcG9ydGVkIGluIHRoZSBicm93c2VyIHlldCksCi8vIHdoZXJlIHRoZXJlIGFyZSBtdWx0aXBsZSBhc3luY2hyb25vdXMgc3RlcHMgYW5kIHRoZSBQeXRob24gc2lkZSBpcyBnb2luZwovLyB0byBwb2xsIGZvciBjb21wbGV0aW9uIG9mIGVhY2ggc3RlcC4KLy8gVGhpcyB1c2VzIGEgUHJvbWlzZSB0byBibG9jayB0aGUgcHl0aG9uIHNpZGUgb24gY29tcGxldGlvbiBvZiBlYWNoIHN0ZXAsCi8vIHRoZW4gcGFzc2VzIHRoZSByZXN1bHQgb2YgdGhlIHByZXZpb3VzIHN0ZXAgYXMgdGhlIGlucHV0IHRvIHRoZSBuZXh0IHN0ZXAuCmZ1bmN0aW9uIF91cGxvYWRGaWxlc0NvbnRpbnVlKG91dHB1dElkKSB7CiAgY29uc3Qgb3V0cHV0RWxlbWVudCA9IGRvY3VtZW50LmdldEVsZW1lbnRCeUlkKG91dHB1dElkKTsKICBjb25zdCBzdGVwcyA9IG91dHB1dEVsZW1lbnQuc3RlcHM7CgogIGNvbnN0IG5leHQgPSBzdGVwcy5uZXh0KG91dHB1dEVsZW1lbnQubGFzdFByb21pc2VWYWx1ZSk7CiAgcmV0dXJuIFByb21pc2UucmVzb2x2ZShuZXh0LnZhbHVlLnByb21pc2UpLnRoZW4oKHZhbHVlKSA9PiB7CiAgICAvLyBDYWNoZSB0aGUgbGFzdCBwcm9taXNlIHZhbHVlIHRvIG1ha2UgaXQgYXZhaWxhYmxlIHRvIHRoZSBuZXh0CiAgICAvLyBzdGVwIG9mIHRoZSBnZW5lcmF0b3IuCiAgICBvdXRwdXRFbGVtZW50Lmxhc3RQcm9taXNlVmFsdWUgPSB2YWx1ZTsKICAgIHJldHVybiBuZXh0LnZhbHVlLnJlc3BvbnNlOwogIH0pOwp9CgovKioKICogR2VuZXJhdG9yIGZ1bmN0aW9uIHdoaWNoIGlzIGNhbGxlZCBiZXR3ZWVuIGVhY2ggYXN5bmMgc3RlcCBvZiB0aGUgdXBsb2FkCiAqIHByb2Nlc3MuCiAqIEBwYXJhbSB7c3RyaW5nfSBpbnB1dElkIEVsZW1lbnQgSUQgb2YgdGhlIGlucHV0IGZpbGUgcGlja2VyIGVsZW1lbnQuCiAqIEBwYXJhbSB7c3RyaW5nfSBvdXRwdXRJZCBFbGVtZW50IElEIG9mIHRoZSBvdXRwdXQgZGlzcGxheS4KICogQHJldHVybiB7IUl0ZXJhYmxlPCFPYmplY3Q+fSBJdGVyYWJsZSBvZiBuZXh0IHN0ZXBzLgogKi8KZnVuY3Rpb24qIHVwbG9hZEZpbGVzU3RlcChpbnB1dElkLCBvdXRwdXRJZCkgewogIGNvbnN0IGlucHV0RWxlbWVudCA9IGRvY3VtZW50LmdldEVsZW1lbnRCeUlkKGlucHV0SWQpOwogIGlucHV0RWxlbWVudC5kaXNhYmxlZCA9IGZhbHNlOwoKICBjb25zdCBvdXRwdXRFbGVtZW50ID0gZG9jdW1lbnQuZ2V0RWxlbWVudEJ5SWQob3V0cHV0SWQpOwogIG91dHB1dEVsZW1lbnQuaW5uZXJIVE1MID0gJyc7CgogIGNvbnN0IHBpY2tlZFByb21pc2UgPSBuZXcgUHJvbWlzZSgocmVzb2x2ZSkgPT4gewogICAgaW5wdXRFbGVtZW50LmFkZEV2ZW50TGlzdGVuZXIoJ2NoYW5nZScsIChlKSA9PiB7CiAgICAgIHJlc29sdmUoZS50YXJnZXQuZmlsZXMpOwogICAgfSk7CiAgfSk7CgogIGNvbnN0IGNhbmNlbCA9IGRvY3VtZW50LmNyZWF0ZUVsZW1lbnQoJ2J1dHRvbicpOwogIGlucHV0RWxlbWVudC5wYXJlbnRFbGVtZW50LmFwcGVuZENoaWxkKGNhbmNlbCk7CiAgY2FuY2VsLnRleHRDb250ZW50ID0gJ0NhbmNlbCB1cGxvYWQnOwogIGNvbnN0IGNhbmNlbFByb21pc2UgPSBuZXcgUHJvbWlzZSgocmVzb2x2ZSkgPT4gewogICAgY2FuY2VsLm9uY2xpY2sgPSAoKSA9PiB7CiAgICAgIHJlc29sdmUobnVsbCk7CiAgICB9OwogIH0pOwoKICAvLyBXYWl0IGZvciB0aGUgdXNlciB0byBwaWNrIHRoZSBmaWxlcy4KICBjb25zdCBmaWxlcyA9IHlpZWxkIHsKICAgIHByb21pc2U6IFByb21pc2UucmFjZShbcGlja2VkUHJvbWlzZSwgY2FuY2VsUHJvbWlzZV0pLAogICAgcmVzcG9uc2U6IHsKICAgICAgYWN0aW9uOiAnc3RhcnRpbmcnLAogICAgfQogIH07CgogIGNhbmNlbC5yZW1vdmUoKTsKCiAgLy8gRGlzYWJsZSB0aGUgaW5wdXQgZWxlbWVudCBzaW5jZSBmdXJ0aGVyIHBpY2tzIGFyZSBub3QgYWxsb3dlZC4KICBpbnB1dEVsZW1lbnQuZGlzYWJsZWQgPSB0cnVlOwoKICBpZiAoIWZpbGVzKSB7CiAgICByZXR1cm4gewogICAgICByZXNwb25zZTogewogICAgICAgIGFjdGlvbjogJ2NvbXBsZXRlJywKICAgICAgfQogICAgfTsKICB9CgogIGZvciAoY29uc3QgZmlsZSBvZiBmaWxlcykgewogICAgY29uc3QgbGkgPSBkb2N1bWVudC5jcmVhdGVFbGVtZW50KCdsaScpOwogICAgbGkuYXBwZW5kKHNwYW4oZmlsZS5uYW1lLCB7Zm9udFdlaWdodDogJ2JvbGQnfSkpOwogICAgbGkuYXBwZW5kKHNwYW4oCiAgICAgICAgYCgke2ZpbGUudHlwZSB8fCAnbi9hJ30pIC0gJHtmaWxlLnNpemV9IGJ5dGVzLCBgICsKICAgICAgICBgbGFzdCBtb2RpZmllZDogJHsKICAgICAgICAgICAgZmlsZS5sYXN0TW9kaWZpZWREYXRlID8gZmlsZS5sYXN0TW9kaWZpZWREYXRlLnRvTG9jYWxlRGF0ZVN0cmluZygpIDoKICAgICAgICAgICAgICAgICAgICAgICAgICAgICAgICAgICAgJ24vYSd9IC0gYCkpOwogICAgY29uc3QgcGVyY2VudCA9IHNwYW4oJzAlIGRvbmUnKTsKICAgIGxpLmFwcGVuZENoaWxkKHBlcmNlbnQpOwoKICAgIG91dHB1dEVsZW1lbnQuYXBwZW5kQ2hpbGQobGkpOwoKICAgIGNvbnN0IGZpbGVEYXRhUHJvbWlzZSA9IG5ldyBQcm9taXNlKChyZXNvbHZlKSA9PiB7CiAgICAgIGNvbnN0IHJlYWRlciA9IG5ldyBGaWxlUmVhZGVyKCk7CiAgICAgIHJlYWRlci5vbmxvYWQgPSAoZSkgPT4gewogICAgICAgIHJlc29sdmUoZS50YXJnZXQucmVzdWx0KTsKICAgICAgfTsKICAgICAgcmVhZGVyLnJlYWRBc0FycmF5QnVmZmVyKGZpbGUpOwogICAgfSk7CiAgICAvLyBXYWl0IGZvciB0aGUgZGF0YSB0byBiZSByZWFkeS4KICAgIGxldCBmaWxlRGF0YSA9IHlpZWxkIHsKICAgICAgcHJvbWlzZTogZmlsZURhdGFQcm9taXNlLAogICAgICByZXNwb25zZTogewogICAgICAgIGFjdGlvbjogJ2NvbnRpbnVlJywKICAgICAgfQogICAgfTsKCiAgICAvLyBVc2UgYSBjaHVua2VkIHNlbmRpbmcgdG8gYXZvaWQgbWVzc2FnZSBzaXplIGxpbWl0cy4gU2VlIGIvNjIxMTU2NjAuCiAgICBsZXQgcG9zaXRpb24gPSAwOwogICAgZG8gewogICAgICBjb25zdCBsZW5ndGggPSBNYXRoLm1pbihmaWxlRGF0YS5ieXRlTGVuZ3RoIC0gcG9zaXRpb24sIE1BWF9QQVlMT0FEX1NJWkUpOwogICAgICBjb25zdCBjaHVuayA9IG5ldyBVaW50OEFycmF5KGZpbGVEYXRhLCBwb3NpdGlvbiwgbGVuZ3RoKTsKICAgICAgcG9zaXRpb24gKz0gbGVuZ3RoOwoKICAgICAgY29uc3QgYmFzZTY0ID0gYnRvYShTdHJpbmcuZnJvbUNoYXJDb2RlLmFwcGx5KG51bGwsIGNodW5rKSk7CiAgICAgIHlpZWxkIHsKICAgICAgICByZXNwb25zZTogewogICAgICAgICAgYWN0aW9uOiAnYXBwZW5kJywKICAgICAgICAgIGZpbGU6IGZpbGUubmFtZSwKICAgICAgICAgIGRhdGE6IGJhc2U2NCwKICAgICAgICB9LAogICAgICB9OwoKICAgICAgbGV0IHBlcmNlbnREb25lID0gZmlsZURhdGEuYnl0ZUxlbmd0aCA9PT0gMCA/CiAgICAgICAgICAxMDAgOgogICAgICAgICAgTWF0aC5yb3VuZCgocG9zaXRpb24gLyBmaWxlRGF0YS5ieXRlTGVuZ3RoKSAqIDEwMCk7CiAgICAgIHBlcmNlbnQudGV4dENvbnRlbnQgPSBgJHtwZXJjZW50RG9uZX0lIGRvbmVgOwoKICAgIH0gd2hpbGUgKHBvc2l0aW9uIDwgZmlsZURhdGEuYnl0ZUxlbmd0aCk7CiAgfQoKICAvLyBBbGwgZG9uZS4KICB5aWVsZCB7CiAgICByZXNwb25zZTogewogICAgICBhY3Rpb246ICdjb21wbGV0ZScsCiAgICB9CiAgfTsKfQoKc2NvcGUuZ29vZ2xlID0gc2NvcGUuZ29vZ2xlIHx8IHt9OwpzY29wZS5nb29nbGUuY29sYWIgPSBzY29wZS5nb29nbGUuY29sYWIgfHwge307CnNjb3BlLmdvb2dsZS5jb2xhYi5fZmlsZXMgPSB7CiAgX3VwbG9hZEZpbGVzLAogIF91cGxvYWRGaWxlc0NvbnRpbnVlLAp9Owp9KShzZWxmKTsK",
              "ok": true,
              "headers": [
                [
                  "content-type",
                  "application/javascript"
                ]
              ],
              "status": 200,
              "status_text": ""
            }
          },
          "base_uri": "https://localhost:8080/",
          "height": 357
        },
        "id": "t8ICp7bEaRCv",
        "outputId": "206b2e8d-d0d9-4f33-b818-c721581d35e0"
      },
      "execution_count": 3,
      "outputs": [
        {
          "output_type": "display_data",
          "data": {
            "text/html": [
              "\n",
              "     <input type=\"file\" id=\"files-fee42e2a-0e23-42f3-9f00-5fdb17045533\" name=\"files[]\" multiple disabled\n",
              "        style=\"border:none\" />\n",
              "     <output id=\"result-fee42e2a-0e23-42f3-9f00-5fdb17045533\">\n",
              "      Upload widget is only available when the cell has been executed in the\n",
              "      current browser session. Please rerun this cell to enable.\n",
              "      </output>\n",
              "      <script src=\"/nbextensions/google.colab/files.js\"></script> "
            ],
            "text/plain": [
              "<IPython.core.display.HTML object>"
            ]
          },
          "metadata": {}
        },
        {
          "output_type": "stream",
          "name": "stdout",
          "text": [
            "Saving causalidad_granger_ipc_ipri.xlsx to causalidad_granger_ipc_ipri.xlsx\n"
          ]
        },
        {
          "output_type": "execute_result",
          "data": {
            "text/html": [
              "\n",
              "  <div id=\"df-3abbb718-7284-4b8a-9752-d8d68aa8ce11\">\n",
              "    <div class=\"colab-df-container\">\n",
              "      <div>\n",
              "<style scoped>\n",
              "    .dataframe tbody tr th:only-of-type {\n",
              "        vertical-align: middle;\n",
              "    }\n",
              "\n",
              "    .dataframe tbody tr th {\n",
              "        vertical-align: top;\n",
              "    }\n",
              "\n",
              "    .dataframe thead th {\n",
              "        text-align: right;\n",
              "    }\n",
              "</style>\n",
              "<table border=\"1\" class=\"dataframe\">\n",
              "  <thead>\n",
              "    <tr style=\"text-align: right;\">\n",
              "      <th></th>\n",
              "      <th>año</th>\n",
              "      <th>ipc_general</th>\n",
              "      <th>ipc_alimentos</th>\n",
              "      <th>ipc_bebidas</th>\n",
              "      <th>ipc_vestido</th>\n",
              "      <th>ipc_vivienda</th>\n",
              "      <th>ipc_menaje</th>\n",
              "      <th>ipc_sanidad</th>\n",
              "      <th>ipc_transporte</th>\n",
              "      <th>ipc_comunicaciones</th>\n",
              "      <th>ipc_ocio</th>\n",
              "      <th>ipc_enseñanza</th>\n",
              "      <th>ipc_restaurantes</th>\n",
              "      <th>ipc_otros</th>\n",
              "      <th>ipri_general</th>\n",
              "      <th>ipri_manufacturera</th>\n",
              "      <th>ipri_energia</th>\n",
              "      <th>ipri_agua</th>\n",
              "      <th>ipri_extractivas</th>\n",
              "    </tr>\n",
              "  </thead>\n",
              "  <tbody>\n",
              "    <tr>\n",
              "      <th>0</th>\n",
              "      <td>2002M01</td>\n",
              "      <td>69.530</td>\n",
              "      <td>65.859</td>\n",
              "      <td>46.340</td>\n",
              "      <td>82.717</td>\n",
              "      <td>58.763</td>\n",
              "      <td>81.364</td>\n",
              "      <td>86.313</td>\n",
              "      <td>63.805</td>\n",
              "      <td>128.593</td>\n",
              "      <td>101.553</td>\n",
              "      <td>58.352</td>\n",
              "      <td>63.523</td>\n",
              "      <td>65.705</td>\n",
              "      <td>71.688</td>\n",
              "      <td>75.111</td>\n",
              "      <td>55.917</td>\n",
              "      <td>NaN</td>\n",
              "      <td>77.080</td>\n",
              "    </tr>\n",
              "    <tr>\n",
              "      <th>1</th>\n",
              "      <td>2002M02</td>\n",
              "      <td>69.590</td>\n",
              "      <td>65.836</td>\n",
              "      <td>46.348</td>\n",
              "      <td>81.782</td>\n",
              "      <td>58.888</td>\n",
              "      <td>81.475</td>\n",
              "      <td>86.844</td>\n",
              "      <td>64.089</td>\n",
              "      <td>126.667</td>\n",
              "      <td>101.580</td>\n",
              "      <td>58.430</td>\n",
              "      <td>64.123</td>\n",
              "      <td>65.834</td>\n",
              "      <td>71.767</td>\n",
              "      <td>75.279</td>\n",
              "      <td>55.858</td>\n",
              "      <td>NaN</td>\n",
              "      <td>77.163</td>\n",
              "    </tr>\n",
              "    <tr>\n",
              "      <th>2</th>\n",
              "      <td>2002M03</td>\n",
              "      <td>70.165</td>\n",
              "      <td>66.185</td>\n",
              "      <td>46.436</td>\n",
              "      <td>83.519</td>\n",
              "      <td>59.041</td>\n",
              "      <td>81.819</td>\n",
              "      <td>87.210</td>\n",
              "      <td>65.007</td>\n",
              "      <td>125.098</td>\n",
              "      <td>103.157</td>\n",
              "      <td>58.496</td>\n",
              "      <td>64.756</td>\n",
              "      <td>66.045</td>\n",
              "      <td>72.165</td>\n",
              "      <td>75.698</td>\n",
              "      <td>55.320</td>\n",
              "      <td>NaN</td>\n",
              "      <td>77.163</td>\n",
              "    </tr>\n",
              "    <tr>\n",
              "      <th>3</th>\n",
              "      <td>2002M04</td>\n",
              "      <td>71.118</td>\n",
              "      <td>66.614</td>\n",
              "      <td>48.321</td>\n",
              "      <td>89.456</td>\n",
              "      <td>59.223</td>\n",
              "      <td>82.336</td>\n",
              "      <td>87.665</td>\n",
              "      <td>66.018</td>\n",
              "      <td>125.098</td>\n",
              "      <td>102.658</td>\n",
              "      <td>58.556</td>\n",
              "      <td>65.182</td>\n",
              "      <td>66.185</td>\n",
              "      <td>72.483</td>\n",
              "      <td>76.200</td>\n",
              "      <td>55.141</td>\n",
              "      <td>NaN</td>\n",
              "      <td>77.413</td>\n",
              "    </tr>\n",
              "    <tr>\n",
              "      <th>4</th>\n",
              "      <td>2002M05</td>\n",
              "      <td>71.374</td>\n",
              "      <td>66.902</td>\n",
              "      <td>48.446</td>\n",
              "      <td>90.427</td>\n",
              "      <td>59.324</td>\n",
              "      <td>82.686</td>\n",
              "      <td>87.212</td>\n",
              "      <td>66.191</td>\n",
              "      <td>125.098</td>\n",
              "      <td>102.968</td>\n",
              "      <td>58.563</td>\n",
              "      <td>65.416</td>\n",
              "      <td>66.299</td>\n",
              "      <td>72.643</td>\n",
              "      <td>76.284</td>\n",
              "      <td>55.201</td>\n",
              "      <td>NaN</td>\n",
              "      <td>77.330</td>\n",
              "    </tr>\n",
              "    <tr>\n",
              "      <th>5</th>\n",
              "      <td>2002M06</td>\n",
              "      <td>71.377</td>\n",
              "      <td>67.075</td>\n",
              "      <td>48.447</td>\n",
              "      <td>89.997</td>\n",
              "      <td>59.470</td>\n",
              "      <td>82.920</td>\n",
              "      <td>87.501</td>\n",
              "      <td>65.545</td>\n",
              "      <td>124.891</td>\n",
              "      <td>103.616</td>\n",
              "      <td>58.571</td>\n",
              "      <td>65.696</td>\n",
              "      <td>66.381</td>\n",
              "      <td>72.404</td>\n",
              "      <td>76.033</td>\n",
              "      <td>55.141</td>\n",
              "      <td>NaN</td>\n",
              "      <td>78.163</td>\n",
              "    </tr>\n",
              "  </tbody>\n",
              "</table>\n",
              "</div>\n",
              "      <button class=\"colab-df-convert\" onclick=\"convertToInteractive('df-3abbb718-7284-4b8a-9752-d8d68aa8ce11')\"\n",
              "              title=\"Convert this dataframe to an interactive table.\"\n",
              "              style=\"display:none;\">\n",
              "        \n",
              "  <svg xmlns=\"http://www.w3.org/2000/svg\" height=\"24px\"viewBox=\"0 0 24 24\"\n",
              "       width=\"24px\">\n",
              "    <path d=\"M0 0h24v24H0V0z\" fill=\"none\"/>\n",
              "    <path d=\"M18.56 5.44l.94 2.06.94-2.06 2.06-.94-2.06-.94-.94-2.06-.94 2.06-2.06.94zm-11 1L8.5 8.5l.94-2.06 2.06-.94-2.06-.94L8.5 2.5l-.94 2.06-2.06.94zm10 10l.94 2.06.94-2.06 2.06-.94-2.06-.94-.94-2.06-.94 2.06-2.06.94z\"/><path d=\"M17.41 7.96l-1.37-1.37c-.4-.4-.92-.59-1.43-.59-.52 0-1.04.2-1.43.59L10.3 9.45l-7.72 7.72c-.78.78-.78 2.05 0 2.83L4 21.41c.39.39.9.59 1.41.59.51 0 1.02-.2 1.41-.59l7.78-7.78 2.81-2.81c.8-.78.8-2.07 0-2.86zM5.41 20L4 18.59l7.72-7.72 1.47 1.35L5.41 20z\"/>\n",
              "  </svg>\n",
              "      </button>\n",
              "      \n",
              "  <style>\n",
              "    .colab-df-container {\n",
              "      display:flex;\n",
              "      flex-wrap:wrap;\n",
              "      gap: 12px;\n",
              "    }\n",
              "\n",
              "    .colab-df-convert {\n",
              "      background-color: #E8F0FE;\n",
              "      border: none;\n",
              "      border-radius: 50%;\n",
              "      cursor: pointer;\n",
              "      display: none;\n",
              "      fill: #1967D2;\n",
              "      height: 32px;\n",
              "      padding: 0 0 0 0;\n",
              "      width: 32px;\n",
              "    }\n",
              "\n",
              "    .colab-df-convert:hover {\n",
              "      background-color: #E2EBFA;\n",
              "      box-shadow: 0px 1px 2px rgba(60, 64, 67, 0.3), 0px 1px 3px 1px rgba(60, 64, 67, 0.15);\n",
              "      fill: #174EA6;\n",
              "    }\n",
              "\n",
              "    [theme=dark] .colab-df-convert {\n",
              "      background-color: #3B4455;\n",
              "      fill: #D2E3FC;\n",
              "    }\n",
              "\n",
              "    [theme=dark] .colab-df-convert:hover {\n",
              "      background-color: #434B5C;\n",
              "      box-shadow: 0px 1px 3px 1px rgba(0, 0, 0, 0.15);\n",
              "      filter: drop-shadow(0px 1px 2px rgba(0, 0, 0, 0.3));\n",
              "      fill: #FFFFFF;\n",
              "    }\n",
              "  </style>\n",
              "\n",
              "      <script>\n",
              "        const buttonEl =\n",
              "          document.querySelector('#df-3abbb718-7284-4b8a-9752-d8d68aa8ce11 button.colab-df-convert');\n",
              "        buttonEl.style.display =\n",
              "          google.colab.kernel.accessAllowed ? 'block' : 'none';\n",
              "\n",
              "        async function convertToInteractive(key) {\n",
              "          const element = document.querySelector('#df-3abbb718-7284-4b8a-9752-d8d68aa8ce11');\n",
              "          const dataTable =\n",
              "            await google.colab.kernel.invokeFunction('convertToInteractive',\n",
              "                                                     [key], {});\n",
              "          if (!dataTable) return;\n",
              "\n",
              "          const docLinkHtml = 'Like what you see? Visit the ' +\n",
              "            '<a target=\"_blank\" href=https://colab.research.google.com/notebooks/data_table.ipynb>data table notebook</a>'\n",
              "            + ' to learn more about interactive tables.';\n",
              "          element.innerHTML = '';\n",
              "          dataTable['output_type'] = 'display_data';\n",
              "          await google.colab.output.renderOutput(dataTable, element);\n",
              "          const docLink = document.createElement('div');\n",
              "          docLink.innerHTML = docLinkHtml;\n",
              "          element.appendChild(docLink);\n",
              "        }\n",
              "      </script>\n",
              "    </div>\n",
              "  </div>\n",
              "  "
            ],
            "text/plain": [
              "       año  ipc_general  ipc_alimentos  ipc_bebidas  ipc_vestido  \\\n",
              "0  2002M01       69.530         65.859       46.340       82.717   \n",
              "1  2002M02       69.590         65.836       46.348       81.782   \n",
              "2  2002M03       70.165         66.185       46.436       83.519   \n",
              "3  2002M04       71.118         66.614       48.321       89.456   \n",
              "4  2002M05       71.374         66.902       48.446       90.427   \n",
              "5  2002M06       71.377         67.075       48.447       89.997   \n",
              "\n",
              "   ipc_vivienda  ipc_menaje  ipc_sanidad  ipc_transporte  ipc_comunicaciones  \\\n",
              "0        58.763      81.364       86.313          63.805             128.593   \n",
              "1        58.888      81.475       86.844          64.089             126.667   \n",
              "2        59.041      81.819       87.210          65.007             125.098   \n",
              "3        59.223      82.336       87.665          66.018             125.098   \n",
              "4        59.324      82.686       87.212          66.191             125.098   \n",
              "5        59.470      82.920       87.501          65.545             124.891   \n",
              "\n",
              "   ipc_ocio  ipc_enseñanza  ipc_restaurantes  ipc_otros  ipri_general  \\\n",
              "0   101.553         58.352            63.523     65.705        71.688   \n",
              "1   101.580         58.430            64.123     65.834        71.767   \n",
              "2   103.157         58.496            64.756     66.045        72.165   \n",
              "3   102.658         58.556            65.182     66.185        72.483   \n",
              "4   102.968         58.563            65.416     66.299        72.643   \n",
              "5   103.616         58.571            65.696     66.381        72.404   \n",
              "\n",
              "   ipri_manufacturera  ipri_energia  ipri_agua  ipri_extractivas  \n",
              "0              75.111        55.917        NaN            77.080  \n",
              "1              75.279        55.858        NaN            77.163  \n",
              "2              75.698        55.320        NaN            77.163  \n",
              "3              76.200        55.141        NaN            77.413  \n",
              "4              76.284        55.201        NaN            77.330  \n",
              "5              76.033        55.141        NaN            78.163  "
            ]
          },
          "metadata": {},
          "execution_count": 3
        }
      ]
    },
    {
      "cell_type": "code",
      "source": [
        "#indexamos año\n",
        "\n",
        "data_1 = data.set_index('año')\n",
        "data_1.head(6)"
      ],
      "metadata": {
        "colab": {
          "base_uri": "https://localhost:8080/",
          "height": 333
        },
        "id": "YFV0OpdV1Ap1",
        "outputId": "efa1fca7-9121-4689-93ce-fc755bf5e509"
      },
      "execution_count": 4,
      "outputs": [
        {
          "output_type": "execute_result",
          "data": {
            "text/html": [
              "\n",
              "  <div id=\"df-be3741b6-1011-47dc-ad94-d203d94b9efd\">\n",
              "    <div class=\"colab-df-container\">\n",
              "      <div>\n",
              "<style scoped>\n",
              "    .dataframe tbody tr th:only-of-type {\n",
              "        vertical-align: middle;\n",
              "    }\n",
              "\n",
              "    .dataframe tbody tr th {\n",
              "        vertical-align: top;\n",
              "    }\n",
              "\n",
              "    .dataframe thead th {\n",
              "        text-align: right;\n",
              "    }\n",
              "</style>\n",
              "<table border=\"1\" class=\"dataframe\">\n",
              "  <thead>\n",
              "    <tr style=\"text-align: right;\">\n",
              "      <th></th>\n",
              "      <th>ipc_general</th>\n",
              "      <th>ipc_alimentos</th>\n",
              "      <th>ipc_bebidas</th>\n",
              "      <th>ipc_vestido</th>\n",
              "      <th>ipc_vivienda</th>\n",
              "      <th>ipc_menaje</th>\n",
              "      <th>ipc_sanidad</th>\n",
              "      <th>ipc_transporte</th>\n",
              "      <th>ipc_comunicaciones</th>\n",
              "      <th>ipc_ocio</th>\n",
              "      <th>ipc_enseñanza</th>\n",
              "      <th>ipc_restaurantes</th>\n",
              "      <th>ipc_otros</th>\n",
              "      <th>ipri_general</th>\n",
              "      <th>ipri_manufacturera</th>\n",
              "      <th>ipri_energia</th>\n",
              "      <th>ipri_agua</th>\n",
              "      <th>ipri_extractivas</th>\n",
              "    </tr>\n",
              "    <tr>\n",
              "      <th>año</th>\n",
              "      <th></th>\n",
              "      <th></th>\n",
              "      <th></th>\n",
              "      <th></th>\n",
              "      <th></th>\n",
              "      <th></th>\n",
              "      <th></th>\n",
              "      <th></th>\n",
              "      <th></th>\n",
              "      <th></th>\n",
              "      <th></th>\n",
              "      <th></th>\n",
              "      <th></th>\n",
              "      <th></th>\n",
              "      <th></th>\n",
              "      <th></th>\n",
              "      <th></th>\n",
              "      <th></th>\n",
              "    </tr>\n",
              "  </thead>\n",
              "  <tbody>\n",
              "    <tr>\n",
              "      <th>2002M01</th>\n",
              "      <td>69.530</td>\n",
              "      <td>65.859</td>\n",
              "      <td>46.340</td>\n",
              "      <td>82.717</td>\n",
              "      <td>58.763</td>\n",
              "      <td>81.364</td>\n",
              "      <td>86.313</td>\n",
              "      <td>63.805</td>\n",
              "      <td>128.593</td>\n",
              "      <td>101.553</td>\n",
              "      <td>58.352</td>\n",
              "      <td>63.523</td>\n",
              "      <td>65.705</td>\n",
              "      <td>71.688</td>\n",
              "      <td>75.111</td>\n",
              "      <td>55.917</td>\n",
              "      <td>NaN</td>\n",
              "      <td>77.080</td>\n",
              "    </tr>\n",
              "    <tr>\n",
              "      <th>2002M02</th>\n",
              "      <td>69.590</td>\n",
              "      <td>65.836</td>\n",
              "      <td>46.348</td>\n",
              "      <td>81.782</td>\n",
              "      <td>58.888</td>\n",
              "      <td>81.475</td>\n",
              "      <td>86.844</td>\n",
              "      <td>64.089</td>\n",
              "      <td>126.667</td>\n",
              "      <td>101.580</td>\n",
              "      <td>58.430</td>\n",
              "      <td>64.123</td>\n",
              "      <td>65.834</td>\n",
              "      <td>71.767</td>\n",
              "      <td>75.279</td>\n",
              "      <td>55.858</td>\n",
              "      <td>NaN</td>\n",
              "      <td>77.163</td>\n",
              "    </tr>\n",
              "    <tr>\n",
              "      <th>2002M03</th>\n",
              "      <td>70.165</td>\n",
              "      <td>66.185</td>\n",
              "      <td>46.436</td>\n",
              "      <td>83.519</td>\n",
              "      <td>59.041</td>\n",
              "      <td>81.819</td>\n",
              "      <td>87.210</td>\n",
              "      <td>65.007</td>\n",
              "      <td>125.098</td>\n",
              "      <td>103.157</td>\n",
              "      <td>58.496</td>\n",
              "      <td>64.756</td>\n",
              "      <td>66.045</td>\n",
              "      <td>72.165</td>\n",
              "      <td>75.698</td>\n",
              "      <td>55.320</td>\n",
              "      <td>NaN</td>\n",
              "      <td>77.163</td>\n",
              "    </tr>\n",
              "    <tr>\n",
              "      <th>2002M04</th>\n",
              "      <td>71.118</td>\n",
              "      <td>66.614</td>\n",
              "      <td>48.321</td>\n",
              "      <td>89.456</td>\n",
              "      <td>59.223</td>\n",
              "      <td>82.336</td>\n",
              "      <td>87.665</td>\n",
              "      <td>66.018</td>\n",
              "      <td>125.098</td>\n",
              "      <td>102.658</td>\n",
              "      <td>58.556</td>\n",
              "      <td>65.182</td>\n",
              "      <td>66.185</td>\n",
              "      <td>72.483</td>\n",
              "      <td>76.200</td>\n",
              "      <td>55.141</td>\n",
              "      <td>NaN</td>\n",
              "      <td>77.413</td>\n",
              "    </tr>\n",
              "    <tr>\n",
              "      <th>2002M05</th>\n",
              "      <td>71.374</td>\n",
              "      <td>66.902</td>\n",
              "      <td>48.446</td>\n",
              "      <td>90.427</td>\n",
              "      <td>59.324</td>\n",
              "      <td>82.686</td>\n",
              "      <td>87.212</td>\n",
              "      <td>66.191</td>\n",
              "      <td>125.098</td>\n",
              "      <td>102.968</td>\n",
              "      <td>58.563</td>\n",
              "      <td>65.416</td>\n",
              "      <td>66.299</td>\n",
              "      <td>72.643</td>\n",
              "      <td>76.284</td>\n",
              "      <td>55.201</td>\n",
              "      <td>NaN</td>\n",
              "      <td>77.330</td>\n",
              "    </tr>\n",
              "    <tr>\n",
              "      <th>2002M06</th>\n",
              "      <td>71.377</td>\n",
              "      <td>67.075</td>\n",
              "      <td>48.447</td>\n",
              "      <td>89.997</td>\n",
              "      <td>59.470</td>\n",
              "      <td>82.920</td>\n",
              "      <td>87.501</td>\n",
              "      <td>65.545</td>\n",
              "      <td>124.891</td>\n",
              "      <td>103.616</td>\n",
              "      <td>58.571</td>\n",
              "      <td>65.696</td>\n",
              "      <td>66.381</td>\n",
              "      <td>72.404</td>\n",
              "      <td>76.033</td>\n",
              "      <td>55.141</td>\n",
              "      <td>NaN</td>\n",
              "      <td>78.163</td>\n",
              "    </tr>\n",
              "  </tbody>\n",
              "</table>\n",
              "</div>\n",
              "      <button class=\"colab-df-convert\" onclick=\"convertToInteractive('df-be3741b6-1011-47dc-ad94-d203d94b9efd')\"\n",
              "              title=\"Convert this dataframe to an interactive table.\"\n",
              "              style=\"display:none;\">\n",
              "        \n",
              "  <svg xmlns=\"http://www.w3.org/2000/svg\" height=\"24px\"viewBox=\"0 0 24 24\"\n",
              "       width=\"24px\">\n",
              "    <path d=\"M0 0h24v24H0V0z\" fill=\"none\"/>\n",
              "    <path d=\"M18.56 5.44l.94 2.06.94-2.06 2.06-.94-2.06-.94-.94-2.06-.94 2.06-2.06.94zm-11 1L8.5 8.5l.94-2.06 2.06-.94-2.06-.94L8.5 2.5l-.94 2.06-2.06.94zm10 10l.94 2.06.94-2.06 2.06-.94-2.06-.94-.94-2.06-.94 2.06-2.06.94z\"/><path d=\"M17.41 7.96l-1.37-1.37c-.4-.4-.92-.59-1.43-.59-.52 0-1.04.2-1.43.59L10.3 9.45l-7.72 7.72c-.78.78-.78 2.05 0 2.83L4 21.41c.39.39.9.59 1.41.59.51 0 1.02-.2 1.41-.59l7.78-7.78 2.81-2.81c.8-.78.8-2.07 0-2.86zM5.41 20L4 18.59l7.72-7.72 1.47 1.35L5.41 20z\"/>\n",
              "  </svg>\n",
              "      </button>\n",
              "      \n",
              "  <style>\n",
              "    .colab-df-container {\n",
              "      display:flex;\n",
              "      flex-wrap:wrap;\n",
              "      gap: 12px;\n",
              "    }\n",
              "\n",
              "    .colab-df-convert {\n",
              "      background-color: #E8F0FE;\n",
              "      border: none;\n",
              "      border-radius: 50%;\n",
              "      cursor: pointer;\n",
              "      display: none;\n",
              "      fill: #1967D2;\n",
              "      height: 32px;\n",
              "      padding: 0 0 0 0;\n",
              "      width: 32px;\n",
              "    }\n",
              "\n",
              "    .colab-df-convert:hover {\n",
              "      background-color: #E2EBFA;\n",
              "      box-shadow: 0px 1px 2px rgba(60, 64, 67, 0.3), 0px 1px 3px 1px rgba(60, 64, 67, 0.15);\n",
              "      fill: #174EA6;\n",
              "    }\n",
              "\n",
              "    [theme=dark] .colab-df-convert {\n",
              "      background-color: #3B4455;\n",
              "      fill: #D2E3FC;\n",
              "    }\n",
              "\n",
              "    [theme=dark] .colab-df-convert:hover {\n",
              "      background-color: #434B5C;\n",
              "      box-shadow: 0px 1px 3px 1px rgba(0, 0, 0, 0.15);\n",
              "      filter: drop-shadow(0px 1px 2px rgba(0, 0, 0, 0.3));\n",
              "      fill: #FFFFFF;\n",
              "    }\n",
              "  </style>\n",
              "\n",
              "      <script>\n",
              "        const buttonEl =\n",
              "          document.querySelector('#df-be3741b6-1011-47dc-ad94-d203d94b9efd button.colab-df-convert');\n",
              "        buttonEl.style.display =\n",
              "          google.colab.kernel.accessAllowed ? 'block' : 'none';\n",
              "\n",
              "        async function convertToInteractive(key) {\n",
              "          const element = document.querySelector('#df-be3741b6-1011-47dc-ad94-d203d94b9efd');\n",
              "          const dataTable =\n",
              "            await google.colab.kernel.invokeFunction('convertToInteractive',\n",
              "                                                     [key], {});\n",
              "          if (!dataTable) return;\n",
              "\n",
              "          const docLinkHtml = 'Like what you see? Visit the ' +\n",
              "            '<a target=\"_blank\" href=https://colab.research.google.com/notebooks/data_table.ipynb>data table notebook</a>'\n",
              "            + ' to learn more about interactive tables.';\n",
              "          element.innerHTML = '';\n",
              "          dataTable['output_type'] = 'display_data';\n",
              "          await google.colab.output.renderOutput(dataTable, element);\n",
              "          const docLink = document.createElement('div');\n",
              "          docLink.innerHTML = docLinkHtml;\n",
              "          element.appendChild(docLink);\n",
              "        }\n",
              "      </script>\n",
              "    </div>\n",
              "  </div>\n",
              "  "
            ],
            "text/plain": [
              "         ipc_general  ipc_alimentos  ipc_bebidas  ipc_vestido  ipc_vivienda  \\\n",
              "año                                                                           \n",
              "2002M01       69.530         65.859       46.340       82.717        58.763   \n",
              "2002M02       69.590         65.836       46.348       81.782        58.888   \n",
              "2002M03       70.165         66.185       46.436       83.519        59.041   \n",
              "2002M04       71.118         66.614       48.321       89.456        59.223   \n",
              "2002M05       71.374         66.902       48.446       90.427        59.324   \n",
              "2002M06       71.377         67.075       48.447       89.997        59.470   \n",
              "\n",
              "         ipc_menaje  ipc_sanidad  ipc_transporte  ipc_comunicaciones  \\\n",
              "año                                                                    \n",
              "2002M01      81.364       86.313          63.805             128.593   \n",
              "2002M02      81.475       86.844          64.089             126.667   \n",
              "2002M03      81.819       87.210          65.007             125.098   \n",
              "2002M04      82.336       87.665          66.018             125.098   \n",
              "2002M05      82.686       87.212          66.191             125.098   \n",
              "2002M06      82.920       87.501          65.545             124.891   \n",
              "\n",
              "         ipc_ocio  ipc_enseñanza  ipc_restaurantes  ipc_otros  ipri_general  \\\n",
              "año                                                                           \n",
              "2002M01   101.553         58.352            63.523     65.705        71.688   \n",
              "2002M02   101.580         58.430            64.123     65.834        71.767   \n",
              "2002M03   103.157         58.496            64.756     66.045        72.165   \n",
              "2002M04   102.658         58.556            65.182     66.185        72.483   \n",
              "2002M05   102.968         58.563            65.416     66.299        72.643   \n",
              "2002M06   103.616         58.571            65.696     66.381        72.404   \n",
              "\n",
              "         ipri_manufacturera  ipri_energia  ipri_agua  ipri_extractivas  \n",
              "año                                                                     \n",
              "2002M01              75.111        55.917        NaN            77.080  \n",
              "2002M02              75.279        55.858        NaN            77.163  \n",
              "2002M03              75.698        55.320        NaN            77.163  \n",
              "2002M04              76.200        55.141        NaN            77.413  \n",
              "2002M05              76.284        55.201        NaN            77.330  \n",
              "2002M06              76.033        55.141        NaN            78.163  "
            ]
          },
          "metadata": {},
          "execution_count": 4
        }
      ]
    },
    {
      "cell_type": "markdown",
      "source": [
        "En primer lugar se analizarán únicamente las series ipc_general e ipri_general, para luego proceder a estudiar la casualidad-granger en cada una de las desagregaciones por clases."
      ],
      "metadata": {
        "id": "jgJZCf9iMFrw"
      }
    },
    {
      "cell_type": "markdown",
      "source": [
        "##Análisis de los datos y transformación"
      ],
      "metadata": {
        "id": "KpWvC0AWTUKd"
      }
    },
    {
      "cell_type": "markdown",
      "source": [
        "Una vez se han cargado los datos, para poder aplicar el test de causalidad de Granger, es necesario que las series sean estacionarias.\n",
        "\n",
        "Las series temporales, teóricamente, se caracterizan por estar formadas por tres componentes: la tendencia (T<sub>t</sub>), la componente estacional (E<sub>t</sub>) y la componente aleatoria (I<sub>t</sub>)\n",
        "\n",
        "> $X_{t} = T_{t} + E_{t} + I_{t}$\n",
        "\n",
        "\n",
        "Así, se dice que una serie temporal es **estacionaria** cuando dicha serie se mantiene estable en el tiempo, es decir, cuando la media y la varianza son constantes. Gráficamente puede observarse cuando los valores se mueven alrededor de una media constante y la variabilidad respecto de esa media también es persistente en el tiempo. (1)\n",
        "\n",
        "¿Y por qué es importante que una serie sea estacionaria? Porque es más fácil de predecir, puesto que si la media y la varianza de mantienen constantes, se considera que hay una gran probabilidad de que en el futuro continuen comportándose de la misma manera.\n",
        "\n",
        "*Importante: No confundir estacionariedad con estacionalidad.*"
      ],
      "metadata": {
        "id": "g2cpJ8emTZIS"
      }
    },
    {
      "cell_type": "markdown",
      "source": [
        "###Análisis gráfico"
      ],
      "metadata": {
        "id": "_zdDNLhid_fv"
      }
    },
    {
      "cell_type": "markdown",
      "source": [
        "En una primera aproximación se puede observar gráficametente si las series IPC general e IPRI general muestran indicios de no ser estacionarias."
      ],
      "metadata": {
        "id": "D69iOZ11aFo3"
      }
    },
    {
      "cell_type": "code",
      "source": [
        "fig, (ax1,ax2) = plt.subplots(1,2, figsize=(20,6))\n",
        "\n",
        "# Especificar las líneas a incluir y su visualización\n",
        "#gráfico ipc\n",
        "ax1.plot(data.año, data_1.ipc_general, color='tab:green', label='ipc índice general')\n",
        "\n",
        "ax1.set_xlabel('periodo')\n",
        "ax1.set_ylabel('índice ipc')\n",
        "ax1.set_title('Evolución índice general ipc')\n",
        "\n",
        "ax1.set_xticks(np.arange(1, 240, step= 12)) #para que no salgan todas las fechas juntas amontonadas (establece saltos entre fecha y fecha)\n",
        "\n",
        "#gráfico ipri\n",
        "ax2.plot(data.año, data_1.ipri_general, color='tab:orange', label='ipri índice general')\n",
        "\n",
        "ax2.set_xlabel('periodo')\n",
        "ax2.set_ylabel('índice ipri')\n",
        "ax2.set_title('Evolución índice general ipri')\n",
        "\n",
        "ax2.set_xticks(np.arange(1, 240, step= 12))\n",
        "\n",
        "plt.gcf().autofmt_xdate() #para que las fechas salgan inclinadas y no horizontal"
      ],
      "metadata": {
        "colab": {
          "base_uri": "https://localhost:8080/",
          "height": 394
        },
        "id": "QRJiOuBraqTX",
        "outputId": "70f4203b-0640-4d66-85b0-093ae4d37706"
      },
      "execution_count": 5,
      "outputs": [
        {
          "output_type": "display_data",
          "data": {
            "image/png": "[encoded data removed]",
            "text/plain": [
              "<Figure size 1440x432 with 2 Axes>"
            ]
          },
          "metadata": {
            "needs_background": "light"
          }
        }
      ]
    },
    {
      "cell_type": "markdown",
      "source": [
        "Como puede observarse a simple vista, parece que ninguna de las series son estacionarias, pues no muestran una media constante. En ambos casos se observa la presencia de tendencia (un aumento de la media en el tiempo). (2)\n",
        "\n"
      ],
      "metadata": {
        "id": "lI_gvycsc746"
      }
    },
    {
      "cell_type": "markdown",
      "source": [
        "###Test de Dickey-Fuller (aumentado)"
      ],
      "metadata": {
        "id": "Dcs2DW7_eCq5"
      }
    },
    {
      "cell_type": "markdown",
      "source": [
        "Para contrastar estos resultados, econométricamente puede comprobarse si una serie es estacionaria o no aplicando el **test de Dickey-Fuller**.\n",
        "\n",
        "Este test busca determinar la existencia o no de raíces unitarias en una serie temporal. Dicho de otra manera, el test permite conocer, a través de un contraste de hipótesis, si hay presencia significativa de tendencia en la serie temporal.\n",
        "\n",
        "Dichas hipótesis serían:\n",
        "\n",
        "*   Hipótesis nula (H<sub>0</sub>): la serie tiene raíz unitaria *(→ la serie no es estacionaria)*\n",
        "*   Hipótesis alternativa (H<sub>1</sub>): la serie no tiene raíz unitaria *(→  la serie es estacionaria)*\n",
        "\n",
        "También podrían verse como:\n",
        "\n",
        "*   H<sub>0</sub>: Hay tendencia estocástica. \n",
        "*   H<sub>1</sub>: No hay tendencia estocástica. \n",
        "\n",
        "\n",
        "\n"
      ],
      "metadata": {
        "id": "TS7W34nKWqni"
      }
    },
    {
      "cell_type": "code",
      "source": [
        "#Comprobamos con el Test Dickey-Fuller\n",
        "#para la serie temporal del ipc general\n",
        "resultado_ipc = adfuller(data_1['ipc_general'])\n",
        "print(f'p-valor: {resultado_ipc[1]}')\n",
        "\n",
        "if resultado_ipc[1] > 0.05:\n",
        "    print(\"La serie no es estacionaria\")\n",
        "else:\n",
        "    print(\"La serie es estacionaria\")"
      ],
      "metadata": {
        "colab": {
          "base_uri": "https://localhost:8080/"
        },
        "id": "HrKEs7RCf0mg",
        "outputId": "0e49d7e5-a055-41ea-da1a-7436dc1bdebe"
      },
      "execution_count": 6,
      "outputs": [
        {
          "output_type": "stream",
          "name": "stdout",
          "text": [
            "p-valor: 0.2543024215161528\n",
            "La serie no es estacionaria\n"
          ]
        }
      ]
    },
    {
      "cell_type": "code",
      "source": [
        "#para la serie temporal del ipri general\n",
        "resultado_ipri = adfuller(data_1['ipri_general'])\n",
        "print(f'p-valor: {resultado_ipri[1]}')\n",
        "\n",
        "if resultado_ipri[1] > 0.05:\n",
        "    print(\"La serie no es estacionaria\")\n",
        "else:\n",
        "    print(\"La serie es estacionaria\")"
      ],
      "metadata": {
        "colab": {
          "base_uri": "https://localhost:8080/"
        },
        "id": "eE1t64fbgTJE",
        "outputId": "c91ed1b3-60fa-4e2d-a70f-0d24db1728ca"
      },
      "execution_count": 7,
      "outputs": [
        {
          "output_type": "stream",
          "name": "stdout",
          "text": [
            "p-valor: 0.38632849187931484\n",
            "La serie no es estacionaria\n"
          ]
        }
      ]
    },
    {
      "cell_type": "markdown",
      "source": [
        "En el caso de las dos variables, el p-valor *(¿Qué tan probables son los datos, asumiendo una hipótesis nula verdadera?)* ha resultado ser mayor que 0.05, por lo que se acepta la hipótesis nula de que hay tendencia estocástica y, por lo tanto, podemos considerar que la serie no es estacionaria."
      ],
      "metadata": {
        "id": "90voZfJck2pa"
      }
    },
    {
      "cell_type": "markdown",
      "source": [
        "Como ambas series no son estacionarias, hay que realizar la diferencia para transformarlas en estacionarias.\n",
        "\n",
        "La diferencia es una forma de transformar un conjunto de datos de series temporales. Se puede emplear para eliminar la dependencia del tiempo. Esto incluye estructuras como tendencias y estacionalidad.\n",
        "\n",
        "La diferencia se realiza restando la observación anterior de la observación actual.\n",
        "\n",
        "Se procede a hacer la diferencia de primer orden, para luego, de nuevo, comprobar visual y econométricamente si la transformación ha convertido las series en estacionarias:"
      ],
      "metadata": {
        "id": "osOi6VeQmBgt"
      }
    },
    {
      "cell_type": "markdown",
      "source": [
        "###Primera diferencia"
      ],
      "metadata": {
        "id": "7_skLp07dMmo"
      }
    },
    {
      "cell_type": "code",
      "source": [
        "#Hacemos la primera diferencia del ipc_general y del ipri_general\n",
        "serie_transformada = data_1[['ipc_general', 'ipri_general']].diff().dropna()\n",
        "data = data.iloc[1:]\n",
        "print(data.shape)\n",
        "print(serie_transformada.shape)"
      ],
      "metadata": {
        "colab": {
          "base_uri": "https://localhost:8080/"
        },
        "id": "_5evVdRhgmjp",
        "outputId": "bc11f9e9-bb72-49e7-ad36-9220d8ce53f2"
      },
      "execution_count": 8,
      "outputs": [
        {
          "output_type": "stream",
          "name": "stdout",
          "text": [
            "(217, 19)\n",
            "(217, 2)\n"
          ]
        }
      ]
    },
    {
      "cell_type": "code",
      "source": [
        "#comprobamos gráficamente el cambio\n",
        "fig, (ax1,ax2) = plt.subplots(1,2, figsize=(20,6))\n",
        "\n",
        "#gráfico ipc\n",
        "ax1.plot(data.año, serie_transformada.ipc_general, color='tab:green', label='ipc índice general')\n",
        "\n",
        "ax1.set_xlabel('periodo')\n",
        "ax1.set_ylabel('índice ipc')\n",
        "ax1.set_title('Evolución índice general ipc')\n",
        "\n",
        "ax1.set_xticks(np.arange(1, 240, step= 12)) \n",
        "\n",
        "#gráfico ipri\n",
        "ax2.plot(data.año, serie_transformada.ipri_general, color='tab:orange', label='ipri índice general')\n",
        "\n",
        "ax2.set_xlabel('periodo')\n",
        "ax2.set_ylabel('índice ipri')\n",
        "ax2.set_title('Evolución índice general ipri')\n",
        "\n",
        "ax2.set_xticks(np.arange(1, 240, step= 12))\n",
        "\n",
        "plt.gcf().autofmt_xdate() "
      ],
      "metadata": {
        "colab": {
          "base_uri": "https://localhost:8080/",
          "height": 394
        },
        "id": "wT89pUJSoMvO",
        "outputId": "0d4f1599-c74c-4605-ef6c-177bbc265368"
      },
      "execution_count": 9,
      "outputs": [
        {
          "output_type": "display_data",
          "data": {
            "image/png": "[encoded data removed]",
            "text/plain": [
              "<Figure size 1440x432 with 2 Axes>"
            ]
          },
          "metadata": {
            "needs_background": "light"
          }
        }
      ]
    },
    {
      "cell_type": "code",
      "source": [
        "#hacemos otra vez el test Dickey-Fuller (para comprobar si con el cambio son estacionarias las series)\n",
        "resultado_ipc_2 = adfuller(serie_transformada['ipc_general'])\n",
        "print(f'p-valor: {resultado_ipc_2[1]}')\n",
        "if resultado_ipc_2[1] > 0.05:\n",
        "    print(\"La serie no es estacionaria\")\n",
        "else:\n",
        "    print(\"La serie es estacionaria\")\n"
      ],
      "metadata": {
        "colab": {
          "base_uri": "https://localhost:8080/"
        },
        "id": "__aPENlxobDE",
        "outputId": "75f7b405-146e-4dca-d088-ae11b6145dcc"
      },
      "execution_count": 10,
      "outputs": [
        {
          "output_type": "stream",
          "name": "stdout",
          "text": [
            "p-valor: 0.043337967015050494\n",
            "La serie es estacionaria\n"
          ]
        }
      ]
    },
    {
      "cell_type": "code",
      "source": [
        "resultado_ipri_2 = adfuller(serie_transformada['ipri_general'])\n",
        "print(f'p-valor: {resultado_ipri_2[1]}')\n",
        "if resultado_ipri_2[1] > 0.05:\n",
        "    print(\"La serie no es estacionaria\")\n",
        "else:\n",
        "    print(\"La serie es estacionaria\")"
      ],
      "metadata": {
        "colab": {
          "base_uri": "https://localhost:8080/"
        },
        "id": "6qcSixUmpUAR",
        "outputId": "6c1248fd-4221-41f2-e9e8-64f28cef612a"
      },
      "execution_count": 11,
      "outputs": [
        {
          "output_type": "stream",
          "name": "stdout",
          "text": [
            "p-valor: 4.6174632694393224e-18\n",
            "La serie es estacionaria\n"
          ]
        }
      ]
    },
    {
      "cell_type": "markdown",
      "source": [
        "Con primeras diferencias se consigue estacionalizar las series. No hace falta hacer segundas diferencias.\n",
        "\n",
        "Ahora se puede proceder a estudiar la causalidad de Granger entre las series temporales IPC general e IPRI general"
      ],
      "metadata": {
        "id": "d39SP2IupbAv"
      }
    },
    {
      "cell_type": "markdown",
      "source": [
        "##Test de Causalidad de Granger"
      ],
      "metadata": {
        "id": "2aPsshWCYric"
      }
    },
    {
      "cell_type": "markdown",
      "source": [
        "Como se mencionó al principio, la prueba estadística de **causalidad de Granger** sirve para determinar si una serie temporal puede predecir a otra. Así, se sustenta en la idea de que si una serie X causa otra Y, entonces serán mejores predictivamente los modelos de Y que usen retardos de X e Y *(modelo no restringido)*, que aquellos que solo empleen datos retrasados de Y *(modelo restringido)*.\n",
        "\n",
        "> Modelo restringido: $y_{t} = \\beta_{0} + \\beta_{1}y_{t-1} + ... + \\beta_{p}y_{t-p} + ϵ $\n",
        "\n",
        "> Modelo no restringido: $y_{t} = \\beta_{0} + \\beta_{1}y_{t-1} + ... + \\beta_{p}y_{t-p} + α_{1}x_{t-1} + ... + α_{p}x_{t-p} + ƞ$\n",
        "\n",
        "Este concepto fue desarrollado por el Premio Nobel Clive W.J Granger para mejorar la actuación de las predicciones. Es básicamente un test para verificar el uso de una variable en la predicción de otra en una serie temporal multivariante con un determinado retardo (lag).\n",
        "\n",
        "Así, las hipótesis de dicho test serían:\n",
        "\n",
        "* Hipótesis nula (H<sub>0</sub>): X<sub>t</sub> no causa-granger Y<sub>t</sub>\n",
        "* Hipótesis alternativa (H<sub>1</sub>): X<sub>t</sub> causa-granger Y<sub>t</sub>\n",
        "\n",
        "No obstante, este test tiene limitaciones:\n",
        "\n",
        "1. No proporciona ninguna visión de relación entre la variable, por lo que no es un \"verdadero análisis de causlidad\" como podría serlo el análisis \"causa-efecto\".\n",
        "\n",
        "2. No se puede aplicar si las series no son estacionarias.\n",
        "\n",
        "3. La predicción da malos resultados en el caso de que haya interdependencia entre dos o más variables.\n",
        "\n",
        "\n"
      ],
      "metadata": {
        "id": "N6MIrGXhaH3_"
      }
    },
    {
      "cell_type": "markdown",
      "source": [
        "Para llevar el test a cabo, primero hay que determinar el número de retardos (lags) óptimos a incluir en la ecuación. Utilizamos para ello el **criterio de información de Akaike (AIC)**. Este criterio en sí mismo proporciona una vía para seleccionar un modelo. Así, dado un conjunto de datos, mide la calidad relativa de un modelo.\n",
        "\n",
        "Matemáticamente, el caso general se presenta como:\n",
        "\n",
        "$AIC = 2k - 2ln(L)$\n",
        "\n",
        "donde k es el número de parámetros del modelo y L es el valor máximo de la función de verosimilitd.\n",
        "\n",
        "También podría usarse como método para la selección del número de retardos el *Criterio de información Bayesiano (BIC)*.\n",
        "\n",
        "\n",
        "Cuanto más pequeños es el valor de este criterio mejor, por lo que se consideraría preferible aquel modelo con el menor AIC. El BIC sigue el mismo criterio.\n",
        "\n",
        "Como con python se puede calcular fácilmente, vamos a emplear ambos criterios a la hora de determinar el número de lags. Con este objetivo, generamos un modelo autoregresivo de los valores conseguidos con la primera diferencia (datos ya estacionarios).\n",
        "\n"
      ],
      "metadata": {
        "id": "QVzWt_mZjU0d"
      }
    },
    {
      "cell_type": "code",
      "source": [
        "model = VAR(serie_transformada)\n",
        "for i in [1,2,3,4,5,6,7,8,9,10,11,12,13,14,15,16]:\n",
        "    result = model.fit(i)\n",
        "    print('Lag Order =', i)\n",
        "    print('AIC : ', result.aic)\n",
        "    print('BIC : ', result.bic)"
      ],
      "metadata": {
        "colab": {
          "base_uri": "https://localhost:8080/"
        },
        "id": "MfOTaDbL81rU",
        "outputId": "aea59275-c507-4467-9ff8-e39eeb6053bc"
      },
      "execution_count": 12,
      "outputs": [
        {
          "output_type": "stream",
          "name": "stdout",
          "text": [
            "Lag Order = 1\n",
            "AIC :  -2.1197143793708504\n",
            "BIC :  -2.025956645824068\n",
            "Lag Order = 2\n",
            "AIC :  -2.1462279379137446\n",
            "BIC :  -1.989454076140365\n",
            "Lag Order = 3\n",
            "AIC :  -3.0988142133947214\n",
            "BIC :  -2.878610175028806\n",
            "Lag Order = 4\n",
            "AIC :  -3.119272725899674\n",
            "BIC :  -2.8352198668256383\n",
            "Lag Order = 5\n",
            "AIC :  -3.226744070750715\n",
            "BIC :  -2.878419079982865\n",
            "Lag Order = 6\n",
            "AIC :  -3.385687026836227\n",
            "BIC :  -2.972661853990835\n",
            "Lag Order = 7\n",
            "AIC :  -3.352476069043327\n",
            "BIC :  -2.8743178503694025\n",
            "Lag Order = 8\n",
            "AIC :  -3.4479544923133747\n",
            "BIC :  -2.904225475247329\n",
            "Lag Order = 9\n",
            "AIC :  -3.4791611045060464\n",
            "BIC :  -2.8694185707144593\n",
            "Lag Order = 10\n",
            "AIC :  -3.562514442065437\n",
            "BIC :  -2.88631062893913\n",
            "Lag Order = 11\n",
            "AIC :  -3.544189456099458\n",
            "BIC :  -2.801071476661008\n",
            "Lag Order = 12\n",
            "AIC :  -3.8854148819030763\n",
            "BIC :  -3.0749246430888304\n",
            "Lag Order = 13\n",
            "AIC :  -3.8375291232489737\n",
            "BIC :  -2.9592032425255046\n",
            "Lag Order = 14\n",
            "AIC :  -3.8174972649174403\n",
            "BIC :  -2.870866985191215\n",
            "Lag Order = 15\n",
            "AIC :  -3.7975861624816676\n",
            "BIC :  -2.7821772652595156\n",
            "Lag Order = 16\n",
            "AIC :  -3.8392401329045978\n",
            "BIC :  -2.7545728496613195\n"
          ]
        },
        {
          "output_type": "stream",
          "name": "stderr",
          "text": [
            "/usr/local/lib/python3.7/dist-packages/statsmodels/tsa/base/tsa_model.py:215: ValueWarning: An unsupported index was provided and will be ignored when e.g. forecasting.\n",
            "  ' ignored when e.g. forecasting.', ValueWarning)\n"
          ]
        }
      ]
    },
    {
      "cell_type": "markdown",
      "source": [
        "Si observamos los datos obtenidos, se puede concluir que el menor AIC y BIC se obtienen en el retardo 12, pues son los valores más pequeños (al ser negativos, se escoge aquel modelo que tiene el valor más negativo).\n",
        "\n",
        "Así, se procede a realizar el test  de Granger considerando 12 retardos."
      ],
      "metadata": {
        "id": "i7UFqyRbA_1R"
      }
    },
    {
      "cell_type": "code",
      "source": [
        "#Test de Granger\n",
        "grangercausalitytests(serie_transformada[['ipc_general', 'ipri_general']], maxlag=12);"
      ],
      "metadata": {
        "colab": {
          "base_uri": "https://localhost:8080/"
        },
        "id": "117xZzsBpi2Y",
        "outputId": "e807affc-812b-442f-8295-af0ef1193a70"
      },
      "execution_count": 13,
      "outputs": [
        {
          "output_type": "stream",
          "name": "stdout",
          "text": [
            "\n",
            "Granger Causality\n",
            "number of lags (no zero) 1\n",
            "ssr based F test:         F=5.3128  , p=0.0221  , df_denom=213, df_num=1\n",
            "ssr based chi2 test:   chi2=5.3876  , p=0.0203  , df=1\n",
            "likelihood ratio test: chi2=5.3215  , p=0.0211  , df=1\n",
            "parameter F test:         F=5.3128  , p=0.0221  , df_denom=213, df_num=1\n",
            "\n",
            "Granger Causality\n",
            "number of lags (no zero) 2\n",
            "ssr based F test:         F=4.5324  , p=0.0118  , df_denom=210, df_num=2\n",
            "ssr based chi2 test:   chi2=9.2806  , p=0.0097  , df=2\n",
            "likelihood ratio test: chi2=9.0859  , p=0.0106  , df=2\n",
            "parameter F test:         F=4.5324  , p=0.0118  , df_denom=210, df_num=2\n",
            "\n",
            "Granger Causality\n",
            "number of lags (no zero) 3\n",
            "ssr based F test:         F=23.2499 , p=0.0000  , df_denom=207, df_num=3\n",
            "ssr based chi2 test:   chi2=72.1083 , p=0.0000  , df=3\n",
            "likelihood ratio test: chi2=62.1444 , p=0.0000  , df=3\n",
            "parameter F test:         F=23.2499 , p=0.0000  , df_denom=207, df_num=3\n",
            "\n",
            "Granger Causality\n",
            "number of lags (no zero) 4\n",
            "ssr based F test:         F=13.2113 , p=0.0000  , df_denom=204, df_num=4\n",
            "ssr based chi2 test:   chi2=55.1765 , p=0.0000  , df=4\n",
            "likelihood ratio test: chi2=49.0653 , p=0.0000  , df=4\n",
            "parameter F test:         F=13.2113 , p=0.0000  , df_denom=204, df_num=4\n",
            "\n",
            "Granger Causality\n",
            "number of lags (no zero) 5\n",
            "ssr based F test:         F=15.6801 , p=0.0000  , df_denom=201, df_num=5\n",
            "ssr based chi2 test:   chi2=82.6911 , p=0.0000  , df=5\n",
            "likelihood ratio test: chi2=69.8204 , p=0.0000  , df=5\n",
            "parameter F test:         F=15.6801 , p=0.0000  , df_denom=201, df_num=5\n",
            "\n",
            "Granger Causality\n",
            "number of lags (no zero) 6\n",
            "ssr based F test:         F=9.2551  , p=0.0000  , df_denom=198, df_num=6\n",
            "ssr based chi2 test:   chi2=59.1762 , p=0.0000  , df=6\n",
            "likelihood ratio test: chi2=52.1627 , p=0.0000  , df=6\n",
            "parameter F test:         F=9.2551  , p=0.0000  , df_denom=198, df_num=6\n",
            "\n",
            "Granger Causality\n",
            "number of lags (no zero) 7\n",
            "ssr based F test:         F=7.0758  , p=0.0000  , df_denom=195, df_num=7\n",
            "ssr based chi2 test:   chi2=53.3407 , p=0.0000  , df=7\n",
            "likelihood ratio test: chi2=47.5316 , p=0.0000  , df=7\n",
            "parameter F test:         F=7.0758  , p=0.0000  , df_denom=195, df_num=7\n",
            "\n",
            "Granger Causality\n",
            "number of lags (no zero) 8\n",
            "ssr based F test:         F=8.1380  , p=0.0000  , df_denom=192, df_num=8\n",
            "ssr based chi2 test:   chi2=70.8686 , p=0.0000  , df=8\n",
            "likelihood ratio test: chi2=61.0251 , p=0.0000  , df=8\n",
            "parameter F test:         F=8.1380  , p=0.0000  , df_denom=192, df_num=8\n",
            "\n",
            "Granger Causality\n",
            "number of lags (no zero) 9\n",
            "ssr based F test:         F=5.5600  , p=0.0000  , df_denom=189, df_num=9\n",
            "ssr based chi2 test:   chi2=55.0705 , p=0.0000  , df=9\n",
            "likelihood ratio test: chi2=48.8559 , p=0.0000  , df=9\n",
            "parameter F test:         F=5.5600  , p=0.0000  , df_denom=189, df_num=9\n",
            "\n",
            "Granger Causality\n",
            "number of lags (no zero) 10\n",
            "ssr based F test:         F=5.9024  , p=0.0000  , df_denom=186, df_num=10\n",
            "ssr based chi2 test:   chi2=65.6882 , p=0.0000  , df=10\n",
            "likelihood ratio test: chi2=57.0513 , p=0.0000  , df=10\n",
            "parameter F test:         F=5.9024  , p=0.0000  , df_denom=186, df_num=10\n",
            "\n",
            "Granger Causality\n",
            "number of lags (no zero) 11\n",
            "ssr based F test:         F=5.0800  , p=0.0000  , df_denom=183, df_num=11\n",
            "ssr based chi2 test:   chi2=62.9027 , p=0.0000  , df=11\n",
            "likelihood ratio test: chi2=54.8935 , p=0.0000  , df=11\n",
            "parameter F test:         F=5.0800  , p=0.0000  , df_denom=183, df_num=11\n",
            "\n",
            "Granger Causality\n",
            "number of lags (no zero) 12\n",
            "ssr based F test:         F=5.4617  , p=0.0000  , df_denom=180, df_num=12\n",
            "ssr based chi2 test:   chi2=74.6427 , p=0.0000  , df=12\n",
            "likelihood ratio test: chi2=63.6531 , p=0.0000  , df=12\n",
            "parameter F test:         F=5.4617  , p=0.0000  , df_denom=180, df_num=12\n"
          ]
        }
      ]
    },
    {
      "cell_type": "markdown",
      "source": [
        "Como al menos uno de los p-valor obtenido es muy pequeño (menor que 0.05) rechazamos la hipótesis nula, por lo que consideramos que **IPRI causa-granger IPC**."
      ],
      "metadata": {
        "id": "2z85JuVAr9a8"
      }
    },
    {
      "cell_type": "markdown",
      "source": [
        "Comprobamos también la relación en el otro sentido, para ver si la relación es unidireccional o bidimensional"
      ],
      "metadata": {
        "id": "HBaUq9lSZJ0K"
      }
    },
    {
      "cell_type": "code",
      "source": [
        "#Test de Grager\n",
        "from statsmodels.tsa.stattools import grangercausalitytests\n",
        "grangercausalitytests(serie_transformada[['ipri_general', 'ipc_general']], maxlag=12);"
      ],
      "metadata": {
        "colab": {
          "base_uri": "https://localhost:8080/"
        },
        "id": "8RDsyGf_q8KB",
        "outputId": "b6838169-a8be-4f30-da2c-b779f4b79004"
      },
      "execution_count": 14,
      "outputs": [
        {
          "output_type": "stream",
          "name": "stdout",
          "text": [
            "\n",
            "Granger Causality\n",
            "number of lags (no zero) 1\n",
            "ssr based F test:         F=5.0715  , p=0.0253  , df_denom=213, df_num=1\n",
            "ssr based chi2 test:   chi2=5.1430  , p=0.0233  , df=1\n",
            "likelihood ratio test: chi2=5.0827  , p=0.0242  , df=1\n",
            "parameter F test:         F=5.0715  , p=0.0253  , df_denom=213, df_num=1\n",
            "\n",
            "Granger Causality\n",
            "number of lags (no zero) 2\n",
            "ssr based F test:         F=2.8508  , p=0.0600  , df_denom=210, df_num=2\n",
            "ssr based chi2 test:   chi2=5.8373  , p=0.0540  , df=2\n",
            "likelihood ratio test: chi2=5.7595  , p=0.0561  , df=2\n",
            "parameter F test:         F=2.8508  , p=0.0600  , df_denom=210, df_num=2\n",
            "\n",
            "Granger Causality\n",
            "number of lags (no zero) 3\n",
            "ssr based F test:         F=3.4129  , p=0.0184  , df_denom=207, df_num=3\n",
            "ssr based chi2 test:   chi2=10.5850 , p=0.0142  , df=3\n",
            "likelihood ratio test: chi2=10.3315 , p=0.0159  , df=3\n",
            "parameter F test:         F=3.4129  , p=0.0184  , df_denom=207, df_num=3\n",
            "\n",
            "Granger Causality\n",
            "number of lags (no zero) 4\n",
            "ssr based F test:         F=4.8361  , p=0.0010  , df_denom=204, df_num=4\n",
            "ssr based chi2 test:   chi2=20.1979 , p=0.0005  , df=4\n",
            "likelihood ratio test: chi2=19.2968 , p=0.0007  , df=4\n",
            "parameter F test:         F=4.8361  , p=0.0010  , df_denom=204, df_num=4\n",
            "\n",
            "Granger Causality\n",
            "number of lags (no zero) 5\n",
            "ssr based F test:         F=4.1397  , p=0.0013  , df_denom=201, df_num=5\n",
            "ssr based chi2 test:   chi2=21.8313 , p=0.0006  , df=5\n",
            "likelihood ratio test: chi2=20.7789 , p=0.0009  , df=5\n",
            "parameter F test:         F=4.1397  , p=0.0013  , df_denom=201, df_num=5\n",
            "\n",
            "Granger Causality\n",
            "number of lags (no zero) 6\n",
            "ssr based F test:         F=3.2628  , p=0.0044  , df_denom=198, df_num=6\n",
            "ssr based chi2 test:   chi2=20.8620 , p=0.0019  , df=6\n",
            "likelihood ratio test: chi2=19.8940 , p=0.0029  , df=6\n",
            "parameter F test:         F=3.2628  , p=0.0044  , df_denom=198, df_num=6\n",
            "\n",
            "Granger Causality\n",
            "number of lags (no zero) 7\n",
            "ssr based F test:         F=2.6684  , p=0.0117  , df_denom=195, df_num=7\n",
            "ssr based chi2 test:   chi2=20.1154 , p=0.0053  , df=7\n",
            "likelihood ratio test: chi2=19.2094 , p=0.0076  , df=7\n",
            "parameter F test:         F=2.6684  , p=0.0117  , df_denom=195, df_num=7\n",
            "\n",
            "Granger Causality\n",
            "number of lags (no zero) 8\n",
            "ssr based F test:         F=2.7159  , p=0.0074  , df_denom=192, df_num=8\n",
            "ssr based chi2 test:   chi2=23.6508 , p=0.0026  , df=8\n",
            "likelihood ratio test: chi2=22.4057 , p=0.0042  , df=8\n",
            "parameter F test:         F=2.7159  , p=0.0074  , df_denom=192, df_num=8\n",
            "\n",
            "Granger Causality\n",
            "number of lags (no zero) 9\n",
            "ssr based F test:         F=2.6122  , p=0.0073  , df_denom=189, df_num=9\n",
            "ssr based chi2 test:   chi2=25.8735 , p=0.0021  , df=9\n",
            "likelihood ratio test: chi2=24.3864 , p=0.0037  , df=9\n",
            "parameter F test:         F=2.6122  , p=0.0073  , df_denom=189, df_num=9\n",
            "\n",
            "Granger Causality\n",
            "number of lags (no zero) 10\n",
            "ssr based F test:         F=2.8384  , p=0.0026  , df_denom=186, df_num=10\n",
            "ssr based chi2 test:   chi2=31.5888 , p=0.0005  , df=10\n",
            "likelihood ratio test: chi2=29.3987 , p=0.0011  , df=10\n",
            "parameter F test:         F=2.8384  , p=0.0026  , df_denom=186, df_num=10\n",
            "\n",
            "Granger Causality\n",
            "number of lags (no zero) 11\n",
            "ssr based F test:         F=2.6353  , p=0.0038  , df_denom=183, df_num=11\n",
            "ssr based chi2 test:   chi2=32.6311 , p=0.0006  , df=11\n",
            "likelihood ratio test: chi2=30.2908 , p=0.0014  , df=11\n",
            "parameter F test:         F=2.6353  , p=0.0038  , df_denom=183, df_num=11\n",
            "\n",
            "Granger Causality\n",
            "number of lags (no zero) 12\n",
            "ssr based F test:         F=2.2238  , p=0.0124  , df_denom=180, df_num=12\n",
            "ssr based chi2 test:   chi2=30.3919 , p=0.0024  , df=12\n",
            "likelihood ratio test: chi2=28.3396 , p=0.0049  , df=12\n",
            "parameter F test:         F=2.2238  , p=0.0124  , df_denom=180, df_num=12\n"
          ]
        }
      ]
    },
    {
      "cell_type": "markdown",
      "source": [
        "Como el p-valor que se obtiene es bajo (menor que 0.05) rechazamos la H<sub>0</sub>, lo que significa que **IPC causa-granger IPRI**.\n",
        "\n",
        "Así consideramos que existe una <ins> relación bidireccional</ins>, donde el IPC viene explicado tanto por sus valores pasados como por los del IPRI, y viceversa."
      ],
      "metadata": {
        "id": "ym_dO3gusENN"
      }
    },
    {
      "cell_type": "code",
      "source": [
        ""
      ],
      "metadata": {
        "id": "_AKVEmOhOEyH"
      },
      "execution_count": null,
      "outputs": []
    },
    {
      "cell_type": "markdown",
      "source": [
        "(donde está casi toda la estructura) https://www.analyticsvidhya.com/blog/2021/08/granger-causality-in-time-series-explained-using-chicken-and-egg-problem/#h2_9\n",
        "\n",
        "(1) http://www.estadisticas.gobierno.pr/iepr/LinkClick.aspx?fileticket=4_BxecUaZmg%3D\n",
        "\n",
        "(2) https://estrategiastrading.com/series-estacionarias/"
      ],
      "metadata": {
        "id": "0oiFw9A6ojoi"
      }
    }
  ]
}